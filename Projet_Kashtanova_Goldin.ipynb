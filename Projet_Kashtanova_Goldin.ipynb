{
 "cells": [
  {
   "cell_type": "markdown",
   "metadata": {},
   "source": [
    "# Naive Bayes classifier  in spam classification\n",
    "( Kashtanova, Goldin )\n",
    "\n",
    "Lorsque les ressources computationnelles ne permettent pas de résoudre un SVM ou une régression\n",
    "logistique, il est utile d’avoir des modèles plus simple à apprendre. C’est le cas du modèle naïf de Bayes qui est quelquefois très efficace. (Contrairement à ce que dit la page wikipédia en français, il ne s’agit pas d’une méthode bayésienne).\n",
    "\n",
    "— http://en.wikipedia.org/wiki/Naive_Bayes_classifier\n",
    "\n",
    "— Naive Bayes : A. McCallum and K. Nigam. A comparison of event models for Naive Bayes text classification. In AAAI-98 Workshop on Learning for Text Categorization, 1998.\n",
    "http://citeseerx.ist.psu.edu/viewdoc/download?doi=10.1.1.65.9324&rep=rep1&type=pdf\n",
    "\n",
    "— Book Chapter : Naive Bayes text classification, Introduction to Information Retrieval\n",
    "http://nlp.stanford.edu/IR-book/html/htmledition/naive-bayes-text-classification-1.html"
   ]
  },
  {
   "cell_type": "markdown",
   "metadata": {},
   "source": [
    "## Base N1 (http://www.dt.fee.unicamp.br/~tiago/smsspamcollection/)\n",
    "``Data base : SMS`` Almeida, T.A., Gamez Hidalgo, J.M., Yamakami, A. Contributions to the Study of SMS Spam Filtering: New Collection and Results. Proceedings of the 2011 ACM Symposium on Document Engineering (DOCENG'11), Mountain View, CA, USA, 2011.\n"
   ]
  },
  {
   "cell_type": "code",
   "execution_count": 1,
   "metadata": {},
   "outputs": [],
   "source": [
    "import re\n",
    "import collections\n",
    "import pandas as pd\n",
    "import numpy as np\n",
    "import matplotlib.pyplot as plt\n",
    "import math\n",
    "import os\n",
    "\n",
    "from collections import Counter"
   ]
  },
  {
   "cell_type": "code",
   "execution_count": 2,
   "metadata": {},
   "outputs": [],
   "source": [
    "def PreprocessSentence (s):\n",
    "    # Simple preprocessing: \n",
    "    # to lower case -> replace all digit strings with '' -> split with punctuation and blank characters\n",
    "    words = re.split(r'\\W+', re.sub(r'\\d+', '', str.lower(s)))\n",
    "    del words[-1]\n",
    "    return words\n",
    "\n",
    "def LoadData (fileName = \"data_spam/SMSSpamCollection.txt\"):\n",
    "    # Read data from text file and makes make some preprocessing with input sentence \n",
    "    df = pd.DataFrame()\n",
    "    with open (fileName ,\"r\") as f :\n",
    "        f . readline()\n",
    "        for line in f:\n",
    "            data = line.split('\\t') # num=2)\n",
    "            df = df.append([[data[0],PreprocessSentence(data[1])]], ignore_index = True) \n",
    "    \n",
    "    df.columns=['lab', 'data']\n",
    "    return df\n",
    "\n",
    "def CreateDataSet (dataSet, proportions = np.array([0.6, 0.2, 0.2])):\n",
    "    # Creates a list with indices of train, validation and test sets  \n",
    "    proportions_new = proportions/np.sum(proportions)\n",
    "    \n",
    "    hamIdx = dataSet[dataSet.lab =='ham'].index \n",
    "    nham = len(hamIdx)  \n",
    "    spamIdx = dataSet[dataSet.lab =='spam'].index \n",
    "    nspam = len(spamIdx)\n",
    "    hamTrainIdx = np.random.choice(hamIdx, math.floor(proportions_new[0]*nham), replace=False)\n",
    "    hamIdx = np.setdiff1d(hamIdx, hamTrainIdx, assume_unique=False)\n",
    "    spamTrainIdx = np.random.choice(spamIdx, math.floor(proportions_new[0]*nspam), replace=False)\n",
    "    spamIdx = np.setdiff1d(spamIdx, spamTrainIdx)\n",
    "    hamValidationIdx = np.random.choice(hamIdx, math.floor(proportions_new[1]*nham), replace=False)\n",
    "    hamIdx = np.setdiff1d(hamIdx, hamValidationIdx)\n",
    "    spamValidationIdx = np.random.choice(spamIdx, math.floor(proportions_new[1]*nspam), replace=False)\n",
    "    spamIdx = np.setdiff1d(spamIdx, spamValidationIdx)  \n",
    "    \n",
    "    # train, validation and test sets\n",
    "    train = np.random.permutation(np.union1d(hamTrainIdx, spamTrainIdx))\n",
    "    validation = np.random.permutation(np.union1d(hamValidationIdx, spamValidationIdx))\n",
    "    test = np.random.permutation(np.union1d(hamIdx, spamIdx))\n",
    "\n",
    "    ds =  dict()\n",
    "    ds['train'] = train\n",
    "    ds['validation'] = validation\n",
    "    ds['test'] = test\n",
    "    \n",
    "    return ds #train, validation, test"
   ]
  },
  {
   "cell_type": "markdown",
   "metadata": {},
   "source": [
    "\n",
    "### Our realisation of Naive Bayes classifier"
   ]
  },
  {
   "cell_type": "code",
   "execution_count": 3,
   "metadata": {},
   "outputs": [],
   "source": [
    "def CreateModel(data, laplaceFactor = 0):\n",
    "    # creates naive bayes spam classifier based on data\n",
    "    #  INPUT:    train data frame with lab and data fields;laplace factor\n",
    "    #  OUTPUT:   trained naive bayes model\n",
    "    \n",
    "    m = dict(laplaceFactor = laplaceFactor)\n",
    "    m['total'] = len(data.lab)\n",
    "    \n",
    "    m['ham'] = dict()\n",
    "    m['spam'] = dict()\n",
    "    \n",
    "    m['hamLabelCount'] = len(data[data.lab =='ham'])\n",
    "    m['spamLabelCount'] = len(data[data.lab =='spam'])\n",
    "    m['hamWordCount'] = 0\n",
    "    m['spamWordCount'] = 0\n",
    "    \n",
    "    uniqueWordSet = set()\n",
    "    \n",
    "    for i in range(len(data.lab)):\n",
    "        sentence = data.data[i]\n",
    "        uniqueWordSet.update(sentence)\n",
    "        \n",
    "        for j in range(len(sentence)):            \n",
    "            if(data.lab[i] == 'ham'):\n",
    "                if m['ham'].get(sentence[j]) is None:\n",
    "                    m['ham'][sentence[j]] = 1\n",
    "                else : \n",
    "                    m['ham'][sentence[j]] = m['ham'][sentence[j]] + 1\n",
    "            \n",
    "                m['hamWordCount'] = m['hamWordCount'] + 1\n",
    "            \n",
    "            else:\n",
    "                if(data.lab[i] == 'spam'):\n",
    "                    if m['spam'].get(sentence[j]) is None:\n",
    "                        m['spam'][sentence[j]] = 1\n",
    "                    else : \n",
    "                        m['spam'][sentence[j]] = m['spam'][sentence[j]] + 1\n",
    "\n",
    "                m['spamWordCount'] = m['spamWordCount'] + 1\n",
    "    \n",
    "    m['uniqueWordCount'] = len(uniqueWordSet)\n",
    "    \n",
    "    return(m) "
   ]
  },
  {
   "cell_type": "code",
   "execution_count": 4,
   "metadata": {},
   "outputs": [],
   "source": [
    "def GetCount(w, ls) :\n",
    "    if ls.get(w) is None:\n",
    "        return 0\n",
    "    return ls.get(w)\n",
    "    \n",
    "def ClassifySentense(s, model, preprocess = True):\n",
    "    # calculate class of the input sentence based on the model\n",
    "    #  INPUT:    string sentence, model from CreateModel and\n",
    "    #            bool flag, if sentence should be preprocessed \n",
    "    #  OUTPUT:   class of message HAM or SPAM\n",
    "    \n",
    "    words = s\n",
    "    if(preprocess):\n",
    "        words = PreprocessSentence(s)\n",
    "\n",
    "    ham = math.log(model['hamLabelCount']/(model['hamLabelCount'] + model['spamLabelCount']))\n",
    "    spam = math.log(model['spamLabelCount']/(model['hamLabelCount'] + model['spamLabelCount']))\n",
    "    for i in range(len(words)):\n",
    "        ham = ham + math.log((GetCount(words[i], model['ham']) + model['laplaceFactor']) /\n",
    "                             (model['hamWordCount'] + model['laplaceFactor']*model['uniqueWordCount']))\n",
    "        spam = spam + math.log((GetCount(words[i], model['spam']) + model['laplaceFactor']) /\n",
    "                               (model['spamWordCount'] + model['laplaceFactor']*model['uniqueWordCount']))\n",
    "    if(ham >= spam):\n",
    "         return ('ham')\n",
    "    \n",
    "    return ('spam')\n",
    "\n",
    "def TestModel (data, model):\n",
    "    # calculate percentage of errors\n",
    "    #  INPUT:    data for testing and model\n",
    "    #  OUTPUT:   percentage of mistakes\n",
    "    errors = 0\n",
    "    for i in range(len(data.lab)):\n",
    "        predictedLabel = ClassifySentense(data.data[i], model, preprocess = False)\n",
    "        if (predictedLabel != data.lab[i]):\n",
    "            errors = errors + 1\n",
    "    return (errors/len(data.lab))\n",
    "\n",
    "def CrossValidation(trainData, validationData, laplaceFactorValues, showLog = False):\n",
    "    # Crossvalidation, search best Laplace factrom from given vector\n",
    "    #  INPUT:    train data, validation data, vector of possible \n",
    "    #            factor values, and flag, if log should be shown\n",
    "    #  OUTPUT:   vector of percentage of errors for corresponding Laplace\n",
    "    #            factor values\n",
    "    cvErrors = np.full(len(laplaceFactorValues), None)\n",
    "    \n",
    "    for i in range(len(laplaceFactorValues)):\n",
    "        model = CreateModel(trainData, laplaceFactor = laplaceFactorValues[i])\n",
    "        cvErrors[i] = TestModel(validationData, model)\n",
    "        if(showLog):\n",
    "            print(\"For laplaceFactorValues = \", laplaceFactorValues[i], \n",
    "                  \" : error is \", cvErrors[i], \"\\n\")\n",
    "    return cvErrors"
   ]
  },
  {
   "cell_type": "code",
   "execution_count": 5,
   "metadata": {},
   "outputs": [],
   "source": [
    "df = LoadData()"
   ]
  },
  {
   "cell_type": "code",
   "execution_count": 6,
   "metadata": {},
   "outputs": [],
   "source": [
    "ds = CreateDataSet(df, proportions = np.array([0.6, 0.2, 0.2]))\n",
    "laplaceFactorValues = np.arange(1,11)\n",
    "\n",
    "DF_train = df.loc[ds['train']].reset_index().drop(['index'], axis='columns')\n",
    "DF_test = df.loc[ds['test']].reset_index().drop(['index'], axis='columns')\n",
    "DF_valid = df.loc[ds['validation']].reset_index().drop(['index'], axis='columns')"
   ]
  },
  {
   "cell_type": "code",
   "execution_count": 7,
   "metadata": {},
   "outputs": [
    {
     "name": "stdout",
     "output_type": "stream",
     "text": [
      "For laplaceFactorValues =  1  : error is  0.019748653500897665 \n",
      "\n",
      "For laplaceFactorValues =  2  : error is  0.01615798922800718 \n",
      "\n",
      "For laplaceFactorValues =  3  : error is  0.017953321364452424 \n",
      "\n",
      "For laplaceFactorValues =  4  : error is  0.018850987432675045 \n",
      "\n",
      "For laplaceFactorValues =  5  : error is  0.02244165170556553 \n",
      "\n",
      "For laplaceFactorValues =  6  : error is  0.02333931777378815 \n",
      "\n",
      "For laplaceFactorValues =  7  : error is  0.02872531418312388 \n",
      "\n",
      "For laplaceFactorValues =  8  : error is  0.03052064631956912 \n",
      "\n",
      "For laplaceFactorValues =  9  : error is  0.03231597845601436 \n",
      "\n",
      "For laplaceFactorValues =  10  : error is  0.03411131059245961 \n",
      "\n"
     ]
    }
   ],
   "source": [
    "cvErrors = CrossValidation(DF_train, DF_valid, laplaceFactorValues, showLog = True)"
   ]
  },
  {
   "cell_type": "code",
   "execution_count": 41,
   "metadata": {},
   "outputs": [],
   "source": [
    "bestLaplaceFactor = laplaceFactorValues[np.argmin(cvErrors)] #2\n",
    "#print(bestLaplaceFactor)\n",
    "model = CreateModel(data=DF_train, laplaceFactor=bestLaplaceFactor)\n",
    "testResult = TestModel(DF_test, model)\n",
    "\n",
    "result_our = []\n",
    "for i in range(len(DF_test['data'])):\n",
    "    result_our.append(ClassifySentense(DF_test['data'][i], model, preprocess = False))\n",
    "    \n",
    "result_our = np.array(result_our)"
   ]
  },
  {
   "cell_type": "code",
   "execution_count": 9,
   "metadata": {},
   "outputs": [
    {
     "data": {
      "image/png": "[encoded data removed]",
      "text/plain": [
       "<matplotlib.figure.Figure at 0x1a9151a2390>"
      ]
     },
     "metadata": {},
     "output_type": "display_data"
    }
   ],
   "source": [
    "fig = plt.figure(figsize=(15,10))\n",
    "ax1 = plt.subplot(111)\n",
    "ax1.plot(np.arange(1, len(cvErrors)+1), cvErrors, c='red', label='Cross validation values')\n",
    "ax1.plot(np.arange(1, len(cvErrors)+1), np.full(len(cvErrors), testResult), \n",
    "         c='blue', label='Test value level (z = {})'.format(bestLaplaceFactor))\n",
    "ax1.set_title('Cross validation and test error value', fontsize = 24)\n",
    "ax1.legend(fontsize = 20)\n",
    "ax1.grid(color='gray', linestyle='dashed')\n",
    "plt.xlabel('Laplace Factor (z)', fontsize = 20)\n",
    "plt.ylabel('Error Value', fontsize = 20) \n",
    "plt.savefig('cros_val.png')\n",
    "plt.show()"
   ]
  },
  {
   "cell_type": "markdown",
   "metadata": {},
   "source": [
    "### Some classifiers from Sklearn"
   ]
  },
  {
   "cell_type": "code",
   "execution_count": 10,
   "metadata": {},
   "outputs": [],
   "source": [
    "from collections import Counter\n",
    "from sklearn.naive_bayes import MultinomialNB, GaussianNB, BernoulliNB\n",
    "from sklearn.svm import SVC, NuSVC, LinearSVC\n",
    "from sklearn.metrics import confusion_matrix\n",
    "from sklearn.discriminant_analysis import LinearDiscriminantAnalysis\n",
    "from sklearn.discriminant_analysis import QuadraticDiscriminantAnalysis\n",
    "from sklearn.neighbors import KNeighborsClassifier"
   ]
  },
  {
   "cell_type": "code",
   "execution_count": 11,
   "metadata": {},
   "outputs": [],
   "source": [
    "# some preprocessing for Sklearn's classifiers\n",
    "# creating word dictionary\n",
    "def make_Dictionary(data):\n",
    "    all_words = []   \n",
    "    for i in range(len(data)):\n",
    "        words = data[i]\n",
    "        all_words += words\n",
    "        \n",
    "    dictionary = Counter(all_words)\n",
    "    \n",
    "    #dictionary = dictionary.most_common(3000)\n",
    "    return dictionary\n",
    " \n",
    "#feature extraction process\n",
    "def extract_features(data, dictionary): \n",
    "    features_matrix = np.zeros((len(data),len(dictionary)))\n",
    "    for i in range(len(data)):\n",
    "        words = data[i]\n",
    "        for word in words:\n",
    "                wordID = 0\n",
    "                for j,d in enumerate(dictionary):\n",
    "                    if d == word:\n",
    "                        wordID = j\n",
    "                        features_matrix[i,wordID] = words.count(word)\n",
    "    \n",
    "    return features_matrix"
   ]
  },
  {
   "cell_type": "code",
   "execution_count": 12,
   "metadata": {},
   "outputs": [],
   "source": [
    "dictionary = make_Dictionary(np.array(DF_train['data']))\n",
    "train_matrix = extract_features(np.array(DF_train['data']), dictionary)\n",
    "train_labels = np.array(DF_train['lab'])"
   ]
  },
  {
   "cell_type": "code",
   "execution_count": 13,
   "metadata": {},
   "outputs": [
    {
     "name": "stderr",
     "output_type": "stream",
     "text": [
      "C:\\Users\\13_Vi\\Anaconda3\\lib\\site-packages\\sklearn\\discriminant_analysis.py:388: UserWarning: Variables are collinear.\n",
      "  warnings.warn(\"Variables are collinear.\")\n",
      "C:\\Users\\13_Vi\\Anaconda3\\lib\\site-packages\\sklearn\\discriminant_analysis.py:682: UserWarning: Variables are collinear\n",
      "  warnings.warn(\"Variables are collinear\")\n"
     ]
    },
    {
     "data": {
      "text/plain": [
       "KNeighborsClassifier(algorithm='auto', leaf_size=30, metric='minkowski',\n",
       "           metric_params=None, n_jobs=1, n_neighbors=5, p=2,\n",
       "           weights='uniform')"
      ]
     },
     "execution_count": 13,
     "metadata": {},
     "output_type": "execute_result"
    }
   ],
   "source": [
    "# Training LDA, SVM and Naive bayes classifier\n",
    "model1 = MultinomialNB()\n",
    "model2 = LinearSVC()\n",
    "model3 = LinearDiscriminantAnalysis()\n",
    "model4 = QuadraticDiscriminantAnalysis()\n",
    "model5 = KNeighborsClassifier()\n",
    "\n",
    "model1.fit(train_matrix,train_labels)\n",
    "model2.fit(train_matrix,train_labels)\n",
    "model3.fit(train_matrix,train_labels)\n",
    "model4.fit(train_matrix,train_labels)\n",
    "model5.fit(train_matrix,train_labels)"
   ]
  },
  {
   "cell_type": "code",
   "execution_count": 14,
   "metadata": {},
   "outputs": [],
   "source": [
    "# Test the unseen mails for Spam\n",
    "test_matrix = extract_features(np.array(DF_test['data']), dictionary)\n",
    "test_labels = np.array(DF_test['lab'])\n",
    "\n",
    "result1 = model1.predict(test_matrix)\n",
    "result2 = model2.predict(test_matrix)\n",
    "result3 = model3.predict(test_matrix)\n",
    "result4 = model4.predict(test_matrix)\n",
    "result5 = model5.predict(test_matrix)"
   ]
  },
  {
   "cell_type": "code",
   "execution_count": 15,
   "metadata": {},
   "outputs": [
    {
     "name": "stdout",
     "output_type": "stream",
     "text": [
      "Confusion matrix :\n",
      "\n",
      "\n",
      "For our NB : \n",
      " [[956  10]\n",
      " [ 11 139]]\n",
      "\n",
      "For MultinomialNB : \n",
      " [[960   6]\n",
      " [ 10 140]]\n",
      "\n",
      "For LinearSVC : \n",
      " [[961   5]\n",
      " [ 12 138]]\n",
      "\n",
      "For LDA : \n",
      " [[776 190]\n",
      " [ 43 107]]\n",
      "\n",
      "For QDA : \n",
      " [[959   7]\n",
      " [ 54  96]]\n",
      "\n",
      "For KNN : \n",
      " [[965   1]\n",
      " [ 78  72]]\n"
     ]
    }
   ],
   "source": [
    "print ('Confusion matrix :\\n')\n",
    "\n",
    "print('\\nFor our NB : \\n', confusion_matrix(test_labels,result_our))\n",
    "print ('\\nFor MultinomialNB : \\n', confusion_matrix(test_labels,result1))\n",
    "print ('\\nFor LinearSVC : \\n', confusion_matrix(test_labels,result2))\n",
    "print ('\\nFor LDA : \\n', confusion_matrix(test_labels,result3))\n",
    "print ('\\nFor QDA : \\n', confusion_matrix(test_labels,result4))\n",
    "print ('\\nFor KNN : \\n', confusion_matrix(test_labels,result5))"
   ]
  },
  {
   "cell_type": "markdown",
   "metadata": {},
   "source": [
    "###### Exemples :\n",
    "First message is a HAM, second is a SPAM :"
   ]
  },
  {
   "cell_type": "code",
   "execution_count": 16,
   "metadata": {},
   "outputs": [],
   "source": [
    "phrase_1 = 'As per your request \"Melle Melle (Oru Minnaminunginte Nurungu Vettam)\" has been set as your callertune for all Callers. Press *9 to copy your friends Callertune'\n",
    "phrase_2 = 'URGENT! We are trying to contact U.Todays draw shows that you have won a 2000 prize GUARANTEED. Call 090 5809 4507 from land line. Claim 3030. Valid 12hrs only'"
   ]
  },
  {
   "cell_type": "markdown",
   "metadata": {},
   "source": [
    "``Our method`` :"
   ]
  },
  {
   "cell_type": "code",
   "execution_count": 17,
   "metadata": {},
   "outputs": [
    {
     "name": "stdout",
     "output_type": "stream",
     "text": [
      "spam\n",
      "spam\n"
     ]
    }
   ],
   "source": [
    "print(ClassifySentense(phrase_1, model))\n",
    "print(ClassifySentense(phrase_2, model))"
   ]
  },
  {
   "cell_type": "markdown",
   "metadata": {},
   "source": [
    "``Others`` :"
   ]
  },
  {
   "cell_type": "code",
   "execution_count": 18,
   "metadata": {},
   "outputs": [],
   "source": [
    "exempl_matrix_1 = extract_features([phrase_1], dictionary)"
   ]
  },
  {
   "cell_type": "code",
   "execution_count": 19,
   "metadata": {},
   "outputs": [
    {
     "name": "stdout",
     "output_type": "stream",
     "text": [
      "['ham']\n",
      "['spam']\n",
      "['spam']\n",
      "['ham']\n",
      "['ham']\n"
     ]
    }
   ],
   "source": [
    "print(model1.predict(exempl_matrix_1))\n",
    "print(model2.predict(exempl_matrix_1))\n",
    "print(model3.predict(exempl_matrix_1))\n",
    "print(model4.predict(exempl_matrix_1))\n",
    "print(model5.predict(exempl_matrix_1))"
   ]
  },
  {
   "cell_type": "code",
   "execution_count": 20,
   "metadata": {},
   "outputs": [],
   "source": [
    "exempl_matrix_2 = extract_features([phrase_2], dictionary)"
   ]
  },
  {
   "cell_type": "code",
   "execution_count": 21,
   "metadata": {},
   "outputs": [
    {
     "name": "stdout",
     "output_type": "stream",
     "text": [
      "['ham']\n",
      "['ham']\n",
      "['spam']\n",
      "['ham']\n",
      "['ham']\n"
     ]
    }
   ],
   "source": [
    "print(model1.predict(exempl_matrix_2))\n",
    "print(model2.predict(exempl_matrix_2))\n",
    "print(model3.predict(exempl_matrix_2))\n",
    "print(model4.predict(exempl_matrix_2))\n",
    "print(model5.predict(exempl_matrix_2))"
   ]
  },
  {
   "cell_type": "markdown",
   "metadata": {},
   "source": [
    "#### Difficult messages for our algoritm :"
   ]
  },
  {
   "cell_type": "code",
   "execution_count": 22,
   "metadata": {},
   "outputs": [],
   "source": [
    "def print_FN_sentence (y_pred, y_true, data_base):\n",
    "    print('False-Negative sentences :')\n",
    "    k = 1\n",
    "    for i in range (len(y_pred)):\n",
    "        if (y_true[i] == 'ham') and (y_pred[i] == 'spam'):\n",
    "            print ('\\n', k, ': \\t' ,' '.join(str(e) for e in data_base['data'][i]), '\\n')\n",
    "            k+=1\n",
    "            \n",
    "def print_FP_sentence (y_pred, y_true, data_base):\n",
    "    print('False-Positive sentences :')\n",
    "    k = 1\n",
    "    for i in range (len(y_pred)):\n",
    "        if (y_true[i] == 'spam') and (y_pred[i] == 'ham'):\n",
    "            print ('\\n', k, ': \\t' ,' '.join(str(e) for e in data_base['data'][i]), '\\n')\n",
    "            k+=1"
   ]
  },
  {
   "cell_type": "code",
   "execution_count": 23,
   "metadata": {},
   "outputs": [
    {
     "name": "stdout",
     "output_type": "stream",
     "text": [
      "False-Negative sentences :\n",
      "\n",
      " 1 : \t ambrith madurai met u in arun dha marrge remembr \n",
      "\n",
      "\n",
      " 2 : \t waiting for your call \n",
      "\n",
      "\n",
      " 3 : \t we have sent jd for customer service cum accounts executive to ur mail id for details contact us \n",
      "\n",
      "\n",
      " 4 : \t  cheers u tex mecause u werebored yeah okden hunny r uin wk sat soundâ s likeyour havin grfun j keep updat countinlots of loveme xxxxx \n",
      "\n",
      "\n",
      " 5 : \t s antha num corrct dane \n",
      "\n",
      "\n",
      " 6 : \t im in inperialmusic listeningthe weirdest track ever byâ leafcutter johnâ sounds like insects being molested someone plumbing remixed by evil men on acid \n",
      "\n",
      "\n",
      " 7 : \t gettin rdy to ship comp \n",
      "\n",
      "\n",
      " 8 : \t have you laid your airtel line to rest \n",
      "\n",
      "\n",
      " 9 : \t life alle mone eppolum oru pole allalo \n",
      "\n",
      "\n",
      " 10 : \t except theres a chick with huge boobs \n",
      "\n"
     ]
    }
   ],
   "source": [
    "print_FN_sentence (result_our, test_labels, DF_test)"
   ]
  },
  {
   "cell_type": "code",
   "execution_count": 24,
   "metadata": {},
   "outputs": [
    {
     "name": "stdout",
     "output_type": "stream",
     "text": [
      "False-Positive sentences :\n",
      "\n",
      " 1 : \t did you hear about the new divorce barbie it comes with all of ken s stuff \n",
      "\n",
      "\n",
      " 2 : \t do you ever notice that when you re driving anyone going slower than you is an idiot and everyone driving faster than you is a maniac \n",
      "\n",
      "\n",
      " 3 : \t sms ac sun posts hello you seem cool wanted to say hi hi stop send stop to \n",
      "\n",
      "\n",
      " 4 : \t a networks allow companies to bill for sms so they are responsible for their suppliers just as a shop has to give a guarantee on what they sell b g \n",
      "\n",
      "\n",
      " 5 : \t more people are dogging in your area now call and join like minded guys why not arrange yourself there s this evening aâ minapn lsbb \n",
      "\n",
      "\n",
      " 6 : \t hello we need some posh birds and chaps to user trial prods for champneys can i put you down i need your address and dob asap ta r \n",
      "\n",
      "\n",
      " 7 : \t sms ac jsco energy is high but u may not know where channel it day ur leadership skills r strong psychic reply ans w question end reply end jsco \n",
      "\n",
      "\n",
      " 8 : \t dont forget you can place as many free requests with stchoice co uk as you wish for more information call \n",
      "\n",
      "\n",
      " 9 : \t claire here am havin borin time am now alone u wanna cum over nite chat now hope c u luv claire xx callsâ minmoremobsemspoboxpowa \n",
      "\n",
      "\n",
      " 10 : \t  free text msgs just text ok to and we ll credit your account \n",
      "\n",
      "\n",
      " 11 : \t missed call alert these numbers called but left no message \n",
      "\n"
     ]
    }
   ],
   "source": [
    "print_FP_sentence (result_our, test_labels, DF_test)"
   ]
  },
  {
   "cell_type": "markdown",
   "metadata": {},
   "source": [
    "## Base N2 (https://www.dropbox.com/s/yjiplngoa430rid/)\n",
    "\n",
    "``Data base : emails`` Ion Androutsopoulos, John Koutsias, Konstantinos V. Chandrinos, George Paliouras\n",
    "and Constantine D. Spyropoulos 'An Evaluation of Naive Bayesian Anti-Spam Filtering' 2000"
   ]
  },
  {
   "cell_type": "code",
   "execution_count": 25,
   "metadata": {},
   "outputs": [],
   "source": [
    "train_dir = 'train-mails'\n",
    "test_dir = 'test-mails'"
   ]
  },
  {
   "cell_type": "code",
   "execution_count": 26,
   "metadata": {},
   "outputs": [],
   "source": [
    "def LoadData_emails (fileName, tag = 'train'):\n",
    "    # Read data from text file and makes simple preprocessing: \n",
    "    #   to lower case -> replace all digit strings with 1 -> split with punctuation and blank characters\n",
    "    df = pd.DataFrame()\n",
    "    \n",
    "    if tag == 'train':\n",
    "        K = 351\n",
    "    else : \n",
    "        if tag == 'test':\n",
    "            K = 130\n",
    "        else : \n",
    "            print('ERROR')\n",
    "            return 0\n",
    "    \n",
    "    \n",
    "    emails = [os.path.join(fileName,f) for f in os.listdir(fileName)]  \n",
    "    k = 0\n",
    "    for mail in emails:    \n",
    "        with open(mail,\"r\") as m:\n",
    "            if (k<K):\n",
    "                df = df.append([['ham',PreprocessSentence(m.read())]], ignore_index = True) \n",
    "            else :\n",
    "                df = df.append([['spam',PreprocessSentence(m.read())]], ignore_index = True) \n",
    "        k+=1\n",
    "    \n",
    "    df.columns=['lab', 'data']\n",
    "    return df"
   ]
  },
  {
   "cell_type": "code",
   "execution_count": 27,
   "metadata": {},
   "outputs": [],
   "source": [
    "df_emails = LoadData_emails(train_dir)\n",
    "df_emails_test = LoadData_emails(test_dir, 'test')"
   ]
  },
  {
   "cell_type": "code",
   "execution_count": 28,
   "metadata": {},
   "outputs": [],
   "source": [
    "ds_emails = CreateDataSet(df_emails, proportions = np.array([0.7, 0.3, 0.0]))\n",
    "laplaceFactorValues_emails = np.arange(1,11)"
   ]
  },
  {
   "cell_type": "code",
   "execution_count": 29,
   "metadata": {},
   "outputs": [
    {
     "name": "stdout",
     "output_type": "stream",
     "text": [
      "For laplaceFactorValues =  1  : error is  0.01904761904761905 \n",
      "\n",
      "For laplaceFactorValues =  2  : error is  0.01904761904761905 \n",
      "\n",
      "For laplaceFactorValues =  3  : error is  0.01904761904761905 \n",
      "\n",
      "For laplaceFactorValues =  4  : error is  0.01904761904761905 \n",
      "\n",
      "For laplaceFactorValues =  5  : error is  0.02857142857142857 \n",
      "\n",
      "For laplaceFactorValues =  6  : error is  0.02857142857142857 \n",
      "\n",
      "For laplaceFactorValues =  7  : error is  0.0380952380952381 \n",
      "\n",
      "For laplaceFactorValues =  8  : error is  0.04285714285714286 \n",
      "\n",
      "For laplaceFactorValues =  9  : error is  0.04285714285714286 \n",
      "\n",
      "For laplaceFactorValues =  10  : error is  0.047619047619047616 \n",
      "\n"
     ]
    }
   ],
   "source": [
    "DF_train_emails = df_emails .loc[ds_emails['train']].reset_index().drop(['index'], axis='columns')\n",
    "DF_valid_emails = df_emails .loc[ds_emails['validation']].reset_index().drop(['index'], axis='columns')\n",
    "\n",
    "DF_test_emails = df_emails_test.sample(frac=1).reset_index(drop=True)\n",
    "\n",
    "cvErrors_emails = CrossValidation(DF_train_emails, DF_valid_emails, laplaceFactorValues_emails, showLog = True)"
   ]
  },
  {
   "cell_type": "code",
   "execution_count": 42,
   "metadata": {},
   "outputs": [],
   "source": [
    "bestLaplaceFactor_emails = laplaceFactorValues_emails[np.argmin(cvErrors_emails)] #2\n",
    "#print(bestLaplaceFactor_emails)\n",
    "model_emails = CreateModel(data=DF_train_emails, laplaceFactor=bestLaplaceFactor_emails)\n",
    "testResult_emails = TestModel(DF_test_emails, model_emails)\n",
    "\n",
    "result_our_emails = []\n",
    "for i in range(len(DF_test_emails['data'])):\n",
    "    result_our_emails.append(ClassifySentense(DF_test_emails['data'][i], model_emails, preprocess = False))\n",
    "    \n",
    "result_our_emails = np.array(result_our_emails)"
   ]
  },
  {
   "cell_type": "code",
   "execution_count": 31,
   "metadata": {},
   "outputs": [
    {
     "data": {
      "image/png": "[encoded data removed]",
      "text/plain": [
       "<matplotlib.figure.Figure at 0x1a9174feda0>"
      ]
     },
     "metadata": {},
     "output_type": "display_data"
    }
   ],
   "source": [
    "fig = plt.figure(figsize=(15,10))\n",
    "ax1 = plt.subplot(111)\n",
    "ax1.plot(np.arange(1, len(cvErrors_emails)+1), cvErrors_emails, c='red', label='Cross validation values')\n",
    "ax1.plot(np.arange(1, len(cvErrors_emails)+1), np.full(len(cvErrors_emails), testResult_emails), \n",
    "         c='blue', label='Test value level (z = {})'.format(bestLaplaceFactor_emails))\n",
    "ax1.set_title('Cross validation and test error value', fontsize = 24)\n",
    "ax1.legend(fontsize = 20)\n",
    "ax1.grid(color='gray', linestyle='dashed')\n",
    "plt.xlabel('Laplace Factor (z)', fontsize = 20)\n",
    "plt.ylabel('Error Value', fontsize = 20) \n",
    "plt.savefig('cros_val_emails.png')\n",
    "plt.show()"
   ]
  },
  {
   "cell_type": "code",
   "execution_count": 32,
   "metadata": {},
   "outputs": [],
   "source": [
    "dictionary_emails  = make_Dictionary(np.array(DF_train_emails['data']))\n",
    "train_matrix_emails  = extract_features(np.array(DF_train_emails['data']), dictionary_emails)\n",
    "train_labels_emails  = np.array(DF_train_emails['lab'])"
   ]
  },
  {
   "cell_type": "code",
   "execution_count": 33,
   "metadata": {},
   "outputs": [
    {
     "name": "stderr",
     "output_type": "stream",
     "text": [
      "C:\\Users\\13_Vi\\Anaconda3\\lib\\site-packages\\sklearn\\discriminant_analysis.py:388: UserWarning: Variables are collinear.\n",
      "  warnings.warn(\"Variables are collinear.\")\n",
      "C:\\Users\\13_Vi\\Anaconda3\\lib\\site-packages\\sklearn\\discriminant_analysis.py:682: UserWarning: Variables are collinear\n",
      "  warnings.warn(\"Variables are collinear\")\n"
     ]
    },
    {
     "data": {
      "text/plain": [
       "KNeighborsClassifier(algorithm='auto', leaf_size=30, metric='minkowski',\n",
       "           metric_params=None, n_jobs=1, n_neighbors=5, p=2,\n",
       "           weights='uniform')"
      ]
     },
     "execution_count": 33,
     "metadata": {},
     "output_type": "execute_result"
    }
   ],
   "source": [
    "# Training LDA, SVM and Naive bayes classifier\n",
    "model1_emails  = MultinomialNB()\n",
    "model2_emails  = LinearSVC()\n",
    "model3_emails  = LinearDiscriminantAnalysis()\n",
    "model4_emails  = QuadraticDiscriminantAnalysis()\n",
    "model5_emails  = KNeighborsClassifier()\n",
    "\n",
    "model1_emails .fit(train_matrix_emails ,train_labels_emails )\n",
    "model2_emails .fit(train_matrix_emails ,train_labels_emails )\n",
    "model3_emails .fit(train_matrix_emails ,train_labels_emails )\n",
    "model4_emails .fit(train_matrix_emails ,train_labels_emails )\n",
    "model5_emails .fit(train_matrix_emails ,train_labels_emails )"
   ]
  },
  {
   "cell_type": "code",
   "execution_count": 34,
   "metadata": {},
   "outputs": [],
   "source": [
    "test_matrix_emails = extract_features(np.array(DF_test_emails['data']), dictionary_emails)\n",
    "test_labels_emails = np.array(DF_test_emails['lab'])"
   ]
  },
  {
   "cell_type": "code",
   "execution_count": 35,
   "metadata": {},
   "outputs": [],
   "source": [
    "result1_emails = model1_emails.predict(test_matrix_emails)\n",
    "result2_emails = model2_emails.predict(test_matrix_emails)\n",
    "result3_emails = model3_emails.predict(test_matrix_emails)\n",
    "result4_emails = model4_emails.predict(test_matrix_emails)\n",
    "result5_emails = model5_emails.predict(test_matrix_emails)"
   ]
  },
  {
   "cell_type": "code",
   "execution_count": 36,
   "metadata": {},
   "outputs": [
    {
     "name": "stdout",
     "output_type": "stream",
     "text": [
      "Confusion matrix :\n",
      "\n",
      "\n",
      "For our NB : \n",
      " [[115  15]\n",
      " [ 11 119]]\n",
      "\n",
      "For MultinomialNB : \n",
      " [[115  15]\n",
      " [  9 121]]\n",
      "\n",
      "For LinearSVC : \n",
      " [[113  17]\n",
      " [  3 127]]\n",
      "\n",
      "For LDA : \n",
      " [[115  15]\n",
      " [ 66  64]]\n",
      "\n",
      "For QDA : \n",
      " [[112  18]\n",
      " [ 77  53]]\n",
      "\n",
      "For KNN : \n",
      " [[ 74  56]\n",
      " [  2 128]]\n"
     ]
    }
   ],
   "source": [
    "print ('Confusion matrix :\\n')\n",
    "\n",
    "print('\\nFor our NB : \\n', confusion_matrix(test_labels_emails,result_our_emails))\n",
    "print ('\\nFor MultinomialNB : \\n', confusion_matrix(test_labels_emails,result1_emails))\n",
    "print ('\\nFor LinearSVC : \\n', confusion_matrix(test_labels_emails,result2_emails))\n",
    "print ('\\nFor LDA : \\n', confusion_matrix(test_labels_emails,result3_emails))\n",
    "print ('\\nFor QDA : \\n', confusion_matrix(test_labels_emails,result4_emails))\n",
    "print ('\\nFor KNN : \\n', confusion_matrix(test_labels_emails,result5_emails))\n"
   ]
  },
  {
   "cell_type": "code",
   "execution_count": 37,
   "metadata": {},
   "outputs": [
    {
     "name": "stdout",
     "output_type": "stream",
     "text": [
      "False-Negative sentences :\n",
      "\n",
      " 1 : \t subject conference research advance technology digital library second european conference research advance technology digital library european european ics forth university union research crete consortium informatic mathematic september heraklion crete greece web page http www csus forth gr eurodl e mail ecdl cc uch gr _ _ _ _ _ _ _ _ _ _ _ _ _ _ _ _ _ _ _ _ _ _ _ _ _ _ _ _ _ _ _ _ _ _ _ _ _ _ _ _ _ _ _ _ _ _ _ _ _ _ _ _ _ _ _ _ _ _ _ _ _ _ _ _ _ _ _ _ _ _ _ _ _ _ _ _ _ _ _ _ objective conference second series european conference research technology digital library fund european commission s tmr programme objective bring together researcher multiple discipline whose science relate development digital library provide opportunity scientist form research community europe specific digital library development enable discuss issue strategy specific european context assist young researcher establish relationship senior scientist area interest enable review discussion research under europe us japan country digital library stimulate researcher especially young scientist explore area interest digital library development establish forum discussion issue specific europe interoperability multilinguality intellectual property policy information commerce provide opportunity researcher relevant enable technology information science discuss issue relate interoperability between world wide distribute digital library technical point view european conference series aim contribute definition those digital library parameter especially influence issue access retrieval interaction information identify key problem must solve digital library service effective reality identify general structure framework integrate research solution propose encourage specific high priority research direction within framework _ _ _ _ _ _ _ _ _ _ _ _ _ _ _ _ _ _ _ _ _ _ _ _ _ _ _ _ _ _ _ _ _ _ _ _ _ _ _ _ _ _ _ _ _ _ _ _ _ _ _ _ _ _ _ _ _ _ _ _ _ _ _ _ _ _ _ _ _ _ _ _ _ _ _ _ _ _ _ _ topic conference organiser solicit papers topic relate digital library include limit follow list o digital library model framework system requirement o metada o system integration architecture issue o interoperability scalability o network information discovery agent technology o information retrieval organisation navigation tool paradigm o multilinguality o role knowledge representation system digital library interaction o collect capture filter cataloge index o preserve o intellectual property right term condition right management o author electronic publish electronic commerce information economy o economic social implication issue o user interface o handle graphic gis medical data multimedium information experimental data o scientific model _ _ _ _ _ _ _ _ _ _ _ _ _ _ _ _ _ _ _ _ _ _ _ _ _ _ _ _ _ _ _ _ _ _ _ _ _ _ _ _ _ _ _ _ _ _ _ _ _ _ _ _ _ _ _ _ _ _ _ _ _ _ _ _ _ _ _ _ _ _ _ _ _ _ _ _ _ _ _ _ conference programme conference hold heraklion crete greece tutorial organise th th september open session place a m monday th september final session place wednesday afternoon th september full detail scientific programme conference publish our web site st july _ _ _ _ _ _ _ _ _ _ _ _ _ _ _ _ _ _ _ _ _ _ _ _ _ _ _ _ _ _ _ _ _ _ _ _ _ _ _ _ _ _ _ _ _ _ _ _ _ _ _ _ _ _ _ _ _ _ _ _ _ _ _ _ _ _ _ _ _ _ _ _ _ _ _ _ _ _ _ _ important date march proposal tutorial panel demo due programme chair april notification tutorial panel demo acceptance paper proposal poster due programme chair june notification paper poster acceptance july scientific programme web july final papers due september tutorial september conference _ _ _ _ _ _ _ _ _ _ _ _ _ _ _ _ _ _ _ _ _ _ _ _ _ _ _ _ _ _ _ _ _ _ _ _ _ _ _ _ _ _ _ _ _ _ _ _ _ _ _ _ _ _ _ _ _ _ _ _ _ _ _ _ _ _ _ _ _ _ _ _ _ _ _ _ _ _ _ _ panel suggestion organisation panel session one propose topic relate topic welcome proposal include short cv position paper each panelist _ _ _ _ _ _ _ _ _ _ _ _ _ _ _ _ _ _ _ _ _ _ _ _ _ _ _ _ _ _ _ _ _ _ _ _ _ _ _ _ _ _ _ _ _ _ _ _ _ _ _ _ _ _ _ _ _ _ _ _ _ _ _ _ _ _ _ _ _ _ _ _ _ _ _ _ _ _ _ _ poster dure conference space reserve poster session research project scale invite illustrate innovative concept prototype system poster proposal include title name presenter outline max word _ _ _ _ _ _ _ _ _ _ _ _ _ _ _ _ _ _ _ _ _ _ _ _ _ _ _ _ _ _ _ _ _ _ _ _ _ _ _ _ _ _ _ _ _ _ _ _ _ _ _ _ _ _ _ _ _ _ _ _ _ _ _ _ _ _ _ _ _ _ _ _ _ _ _ _ _ _ _ _ tutorial tutorial day hold before conference saturday th sunday th september proposal tutorial solicit tutorial either half day hour full day hour each proposal include title summary intention objective etc duration short cv instructor s _ _ _ _ _ _ _ _ _ _ _ _ _ _ _ _ _ _ _ _ _ _ _ _ _ _ _ _ _ _ _ _ _ _ _ _ _ _ _ _ _ _ _ _ _ _ _ _ _ _ _ _ _ _ _ _ _ _ _ _ _ _ _ _ _ _ _ _ _ _ _ _ _ _ _ _ _ _ _ _ demo result demonstration on go project strongly encourage those interest submit description intend demo programme chair _ _ _ _ _ _ _ _ _ _ _ _ _ _ _ _ _ _ _ _ _ _ _ _ _ _ _ _ _ _ _ _ _ _ _ _ _ _ _ _ _ _ _ _ _ _ _ _ _ _ _ _ _ _ _ _ _ _ _ _ _ _ _ _ _ _ _ _ _ _ _ _ _ _ _ _ _ _ _ _ paper paper max page double space submit electronically html format either e mail conference secretariat ecdl cc uch gr our ftp site ftp ftp ic forth gr eurodl _ _ _ _ _ _ _ _ _ _ _ _ _ _ _ _ _ _ _ _ _ _ _ _ _ _ _ _ _ _ _ _ _ _ _ _ _ _ _ _ _ _ _ _ _ _ _ _ _ _ _ _ _ _ _ _ _ _ _ _ _ _ _ _ _ _ _ _ _ _ _ _ _ _ _ _ _ _ _ _ proceeding proceeding publish springer volume lecture note computer science series distribute conference _ _ _ _ _ _ _ _ _ _ _ _ _ _ _ _ _ _ _ _ _ _ _ _ _ _ _ _ _ _ _ _ _ _ _ _ _ _ _ _ _ _ _ _ _ _ _ _ _ _ _ _ _ _ _ _ _ _ _ _ _ _ _ _ _ _ _ _ _ _ _ _ _ _ _ _ _ _ _ _ fellowship young researcher limit number fellowship conference tutorial available young researcher citizen european union country liechtenstein norway iceland fellowship offer free registration participant special case where necessary appropriately justify pay reimburse travel lodge expense _ _ _ _ _ _ _ _ _ _ _ _ _ _ _ _ _ _ _ _ _ _ _ _ _ _ _ _ _ _ _ _ _ _ _ _ _ _ _ _ _ _ _ _ _ _ _ _ _ _ _ _ _ _ _ _ _ _ _ _ _ _ _ _ _ _ _ _ _ _ _ _ _ _ _ _ _ _ _ _ programme chair christo nikolaou university crete ics forth leoforo knossou gr heraklion crete greece tel fax e mail nikolau cc uch gr _ _ _ _ _ _ _ _ _ _ _ _ _ _ _ _ _ _ _ _ _ _ _ _ _ _ _ _ _ _ _ _ _ _ _ _ _ _ _ _ _ _ _ _ _ _ _ _ _ _ _ _ _ _ _ _ _ _ _ _ _ _ _ _ _ _ _ _ _ _ _ _ _ _ _ _ _ _ _ _ programme committee serge abiteboul inria france robert b allen bellcore usa thoma baker asian institute technology thailand william birmingham university michigan usa pano constantopoulo university crete ics forth greece bruce croft university massachusett usa costi dalla hellenic ministry foreign affair greece edward fox virginium technical university usa norbert fuhr university dortmund germany hector garcium molina stanford university usa keith jeffery ral clrc uk martin kersten cwi netherland judith klavan columbium university usa carl lagoze cornell university usa clifford lynch coalition network information usa jeff mackie mason university michigan usa desaus narasimhalu national university singapore singapore ann okerson yale university usa olle olsson sics sweden andrea paepcke stanford university usa nichola patrikalaki mit usa carol peter iei cnr italy jakka sairamesh ibm t j watson research center usa peter schauble eth zurich switzerland han joerg schek eth zurich switzerland eric simon inria france ingeborg t solvberg university science technology norway constantine stephanidi ics forth greece shigeo sugimoto university library information science japan costantino thano iei cnr italy ulrich thiel gmd ipsi germany stuart weibel oclc usa _ _ _ _ _ _ _ _ _ _ _ _ _ _ _ _ _ _ _ _ _ _ _ _ _ _ _ _ _ _ _ _ _ _ _ _ _ _ _ _ _ _ _ _ _ _ _ _ _ _ _ _ _ _ _ _ _ _ _ _ _ _ _ _ _ _ _ _ _ _ _ _ _ _ _ _ _ _ _ _ local organise committee saranto kapidaki ics forth greece penelope constanta ics forth greece spiro lali university crete greece gioylh koraoy university crete greece stellum vourou university crete ics forth greece mixalh tzekakh university crete greece maria stavrakakus university crete greece rena kalaitzakus university crete greece maria prevelianakus ics forth greece liana kefalakus ics forth greece dimitri papadaki university crete greece manoli marazaki university crete greece anastasium anastasiadus ics forth greece stavro papadaki university crete greece _ _ _ _ _ _ _ _ _ _ _ _ _ _ _ _ _ _ _ _ _ _ _ _ _ _ _ _ _ _ _ _ _ _ _ _ _ _ _ _ _ _ _ _ _ _ _ _ _ _ _ _ _ _ _ _ _ _ _ _ _ _ _ _ _ _ _ _ _ _ _ _ _ _ _ _ _ _ _ _ contact info information regard conference contact conference secretariat rena kalaitzakus maria stavrakakus university crete computer science department tel fax e mail ecdl cc uch gr _ _ _ _ _ _ _ _ _ _ _ _ _ _ _ _ _ _ _ _ _ _ _ _ _ _ _ _ _ _ _ _ _ _ _ _ _ _ _ _ _ _ _ _ _ _ _ _ _ _ _ _ _ _ _ _ _ _ _ _ _ _ _ _ _ _ _ _ _ _ _ _ _ _ _ _ _ _ _ _ subscribe announcement list second european conference research advance technology digital library send electronic mail majordomo csus forth gr body s ubscribe ecdl announce email address \n",
      "\n",
      "\n",
      " 2 : \t subject language resource european minority language pre final programme call participation workshop language resource european minority language wednesday morn granada spain association first international conference language resource evaluation granada spain programme registration welcome introduction overview minority language europe marc alemany catalan sociolinguistic institute vocatel vogatel two telephone speech database spanish minority language catalan galician lui villarrubium paloma leon lui hernandez speech technology group telefonica i d madrid spain climent nadeu ignasus esquerra javier hernando dept tsc universitat polite cnica de catalunya barcelona spain carman garcium mateo laura docio etsit de telecomunicacio n universidad de vigo vigo spain written linguistic resource catalan dcc project joan soler bou institut d estudi catalan barcelona spain melin project donncha o cro inus n institiu id teangeolaus ochta e ireann linguistic institute ireland dublin ireland coffee framework automatic process basque aldezabal o ansa j m arriolum di az de ilarraza n ezeiza maritxalar m oronoz k sarasolum euskal herriko unibertsitatea spain aduriz m urkium uzei donostium spain toward creation galician language resource print dictionary galician wordnet fernando magan ramo n pin eiro research center humanity santiago de compostelum spain poster session odd number author poster poster session even number author poster plenary end poster papers tagger environment galician m vilare j grun universidad de corunna spain t araujo d cabrero diz ramo n pin eiro research center humanity santiago de compostelum spain bilingual spanish catalan database unit concatenative synthesis esquerra bonafonte f vallverdu febrer universitat polite cnica de catalunya barcelona spain method tool build catalan wordnet l benus tez s cervell g escudero m lo pez g rigau m taule universitat polite cnica de catalunya barcelona spain universitat de barcelona lemmatisation corpus cornish j mill university luton england uk speechdat cymru large scale telephony welsh database r j jone j s mason univ wale swansea wale uk l helliker m pawlewskus bt lab ipswich england uk kgb project tool resource breton language learn j siroux h gourmelon g mercier j p messager enssat lannion france speech database basque language k lo pez de ipin torr l ederra euskal herriko unibertsitatea spain overview exist language resource gallego c garcus mateo universidade de vigo spain m gonza lez gonza lez universidade de santiago spain language standardisation linguistic resource case central ladin dolomite f ciochettus istitut ladin vigo dus fassa italy f pianesus irst trento italy le parole project national corpus irish d o cro inus n e ui dhonnchadha institiu id teangeolaus ochta e ireann linguistic institute ireland dublin ireland design phonetic corpus speech recognition catalan esquerra c nadeu universitat polite cnica de catalunya barcelona spain l villarrubium p leo n telefo nica investigacio n y desarrollo madrid spain level annotation welsh speech database phonetic research b william university edinburgh scotland uk workshop scope aims minority lesser language europe e g basque welsh breton under increase pressure major language e g gaelic become endanger e g catalan stronger position certain amount official recognition fund however situation regard language resource fragment disorganise minority language adequately research linguistically most vast majority yet possess basic speech language resource text speech corpus sufficient permit commercial development product situation continue minority language europe fall long behind major language regards availability commercial speech language product turn accelerate decline those language already struggle survive speaker force majority language interaction product break vicious circle important encourage development basic language resource workshop small first step toward encourage development resource aim share information isolate researcher need start nothing important aspect form personal contact present exist aim easier isolate researcher little fund exist corpus begin develop usuable speech text database balance between presentation exist language resource general presentation design background information organisers briony william university edinburgh scotland uk climent nadeu universitat politecnica de catalunya catalunya spain alex monaghan dublin city university ireland contact academic matter registration information below briony william cstr south bridge edinburgh eh hn scotland uk email briony cstr ed ac uk tel fax registration information lrec pre post conference workshops conference registration fee peseta ecu per participant reduce fee peseta ecu early registration march peseta ecu student fee cover follow service copy proceedings social dinner coffee break refreshments accompany person social dinner peseta ecu pre conference workshop pre conference workshop peseta each those attend lrec peseta each those attend lrec include copy proceedings workshop coffee break post conference workshop day post conference workshop peseta those attend lrec peseta those attend lrec include copy proceedings workshop coffee break registration willbe those person invite participate organizer advance registration payment registration form below registration on site must pay cash peseta registration forms first international conference language resources evaluation granada spain e mail fax lrec secretariat facultad de traduccion e interpretacion dpto de traduccion e interpretacion c puentezuela granada spain tel fax reli goliat ugr e name _ _ _ _ _ _ _ _ _ _ _ _ _ _ _ _ _ _ _ _ _ _ _ _ _ _ _ _ _ _ _ _ _ _ _ _ _ _ _ first name _ _ _ _ _ _ _ _ _ _ _ _ _ _ _ _ _ _ _ _ _ _ _ _ _ _ _ _ _ _ _ _ _ _ _ _ _ _ _ affiliation _ _ _ _ _ _ _ _ _ _ _ _ _ _ _ _ _ _ _ _ _ _ _ _ _ _ _ _ _ _ _ _ _ _ _ _ _ _ _ address _ _ _ _ _ _ _ _ _ _ _ _ _ _ _ _ _ _ _ _ _ _ _ _ _ _ _ _ _ _ _ _ _ _ _ _ _ _ _ _ _ _ _ _ _ _ _ _ _ _ _ _ _ _ _ _ _ _ _ _ _ _ _ _ _ _ _ _ _ _ _ _ _ _ _ _ _ _ city _ _ _ _ _ _ _ _ _ _ _ _ _ _ _ _ _ _ _ _ _ _ _ _ _ _ _ _ _ _ _ _ _ _ _ _ _ _ _ state province _ _ _ _ _ _ _ _ _ _ _ _ _ _ _ _ _ _ _ _ _ _ _ _ _ _ _ _ _ _ _ _ _ _ _ _ _ _ _ country _ _ _ _ _ _ _ _ _ _ _ _ _ _ _ _ _ _ _ _ _ _ _ _ _ _ _ _ _ _ _ _ _ _ _ _ _ _ _ postal zip code _ _ _ _ _ _ _ _ _ _ _ _ _ _ _ _ _ _ _ _ _ _ _ _ _ _ _ _ _ _ _ _ _ _ _ _ _ _ _ phone _ _ _ _ _ _ _ _ _ _ _ _ _ _ _ _ _ _ _ _ _ _ _ _ _ _ _ _ _ _ _ _ _ _ _ _ _ _ _ fax _ _ _ _ _ _ _ _ _ _ _ _ _ _ _ _ _ _ _ _ _ _ _ _ _ _ _ _ _ _ _ _ _ _ _ _ _ _ _ e mail _ _ _ _ _ _ _ _ _ _ _ _ _ _ _ _ _ _ _ _ _ _ _ _ _ _ _ _ _ _ _ _ _ _ _ _ _ _ _ web _ _ _ _ _ _ _ _ _ _ _ _ _ _ _ _ _ _ _ _ _ _ _ _ _ _ _ _ _ _ _ _ _ _ _ _ _ _ _ registration payment form registration fees full participant after march peseta ecu sub total _ _ _ _ _ _ _ _ _ _ student peseta ecu sub total _ _ _ _ _ _ _ _ _ _ registration fee include one copy proceedings social dinner coffee break refreshments social dinner accompany person peseta ecu sub total _ _ _ _ _ _ _ _ _ _ pre conference workshop peseta each those attend lrec peseta each those attend lrec please indicate workshop plan attend x _ _ _ _ _ linguistic coreference morn session _ _ _ _ _ adapt lexical corpus resource sublanguage application morn session _ _ _ _ _ evaluation parse system afternoon session _ _ _ _ _ minimize effort language resource acquisition afternoon session _ _ _ _ _ toward open european evaluation infrastructure nl speech morn session _ _ _ _ _ language resource european minority language morn session _ _ _ _ _ speech database development central eastern europeanlanguage afternoon session _ _ _ _ _ distribute access linguistic resource afternoon session total number _ _ _ _ _ _ _ _ _ _ x attend lrec _ _ _ _ _ _ _ _ _ _ x attend lrec _ _ _ _ _ _ _ _ _ _ sub total _ _ _ _ _ _ _ _ _ _ post conference workshop june _ _ _ _ _ _ _ translingual information management current level future ability register ask participate confirm organizer attend lrec attend lrec sub total _ _ _ _ _ _ _ _ _ _ grand total _ _ _ _ _ _ _ _ _ _ method payment pay credit card visa mastercard eurocard cannot accept american express diner club etc pay banker s cheque bank transfer eurocheque payment must spanish peseta payment banker s cheque bank transfer eurocheque please send regular mail payment credit card fax please e mail credit card number cannot guarantee security our e mail system require signature please indicate x one follow four payment option _ _ _ _ enclose banker s cheque spanish peseta payable first international conference language resource evaluation b _ _ _ _ transfer full fee bank transfer account banco central hispano c recogida granada account name first international conference language resource evaluation account number tell bank charge us bank charge first international conference language resource evaluation receive full fee enclose copy bank transferpaper person s name write transfer c _ _ _ _ please debit visa mastercard eurocard account amount _ _ _ _ _ _ _ _ _ _ _ _ _ _ _ _ _ _ _ _ _ _ _ _ _ _ _ _ _ _ _ _ _ _ _ _ _ _ _ _ _ card _ _ _ _ _ _ _ _ _ _ _ _ _ _ _ _ _ _ _ _ _ _ _ _ _ _ _ _ _ _ _ _ _ _ _ _ _ _ _ _ _ valid _ _ _ _ _ _ _ _ _ _ _ _ print card cardholder s name address name _ _ _ _ _ _ _ _ _ _ _ _ _ _ _ _ _ _ _ _ _ _ _ _ _ _ _ _ _ _ _ _ _ _ _ _ _ _ _ _ _ first name _ _ _ _ _ _ _ _ _ _ _ _ _ _ _ _ _ _ _ _ _ _ _ _ _ _ _ _ _ _ _ _ _ _ _ _ _ _ _ _ _ affiliation _ _ _ _ _ _ _ _ _ _ _ _ _ _ _ _ _ _ _ _ _ _ _ _ _ _ _ _ _ _ _ _ _ _ _ _ _ _ _ _ _ street address _ _ _ _ _ _ _ _ _ _ _ _ _ _ _ _ _ _ _ _ _ _ _ _ _ _ _ _ _ _ _ _ _ _ _ _ _ _ _ _ _ _ _ _ _ _ _ _ _ _ _ _ _ _ _ _ _ _ _ _ _ _ _ _ _ _ _ _ _ _ _ _ _ _ _ _ _ _ _ _ _ _ city _ _ _ _ _ _ _ _ _ _ _ _ _ _ _ _ _ _ _ _ _ _ _ _ _ _ _ _ _ _ _ _ _ _ _ _ _ _ _ _ _ state province _ _ _ _ _ _ _ _ _ _ _ _ _ _ _ _ _ _ _ _ _ _ _ _ _ _ _ _ _ _ _ _ _ _ _ _ _ _ _ _ _ country _ _ _ _ _ _ _ _ _ _ _ _ _ _ _ _ _ _ _ _ _ _ _ _ _ _ _ _ _ _ _ _ _ _ _ _ _ _ _ _ _ postal zip code _ _ _ _ _ _ _ _ _ _ _ _ _ _ _ _ _ _ _ _ _ _ _ _ _ _ _ _ _ _ _ _ _ _ _ _ _ _ _ _ _ e mail _ _ _ _ _ _ _ _ _ _ _ _ _ _ _ _ _ _ _ _ _ _ _ _ _ _ _ _ _ _ _ _ _ _ _ _ _ _ _ _ _ web _ _ _ _ _ _ _ _ _ _ _ _ _ _ _ _ _ _ _ _ _ _ _ _ _ _ _ _ _ _ _ _ _ _ _ _ _ _ _ _ _ signature card _ _ _ _ _ _ _ _ _ _ _ _ _ _ _ _ _ _ _ _ _ _ _ _ _ _ _ _ _ _ _ _ _ _ _ _ _ _ _ _ _ credit card charge process spanish peseta d _ _ _ _ enclose eurocheque s full fee write eurocheque number back each eurocheque mail fax lrec secretariat facultad de traduccion e interpretacion dpto de traduccion e interpretacion c puentezuela granada spain reli goliat ugr e fax visit our website further information http cere ugr e rubio elra html conference addresses conference chair antonio zampollus istituto dus linguistica computazionale del cnr president elra antonio zampollus lrec istituto dus linguistica computazionale del cnr vium dellum faggiolum pisa italy tel fax pisa ilc pi cnr secretariat conference provide general information conference lrec secretariat facultad de traduccion e interpretacion dpto de traduccion e interpretacion c puentezuela granada spain tel fax reli goliat ugr e conference program committee harald hoege siemen munich germany bente maegaard cst copenhagen denmark joseph marianus limsi cnrs orsay france angel martin municio president real academium de ciencia madrid spain antonio zampollus istituto dus linguistica computazionale pisa italy exhibition exhibition organise elra exhibition open company project wish promote present demonstrate language resource product prototype wide range expert representative over world participate conference information please contact elda office elra elda calva net elra information elra european language resource association please contact khalid choukrus elra ceo rue brillat savarin f pari france tel fax e mail elra calva net web http www icp grenet fr elra home html \n",
      "\n",
      "\n",
      " 3 : \t subject ecdl final call paper _ _ _ _ _ _ _ _ _ _ _ _ _ _ _ _ _ _ _ _ _ _ _ _ _ _ _ _ _ _ _ _ _ _ _ _ _ _ _ _ _ _ _ _ _ _ _ _ _ _ _ _ _ _ _ _ _ _ _ _ _ _ _ _ _ _ _ _ _ _ _ _ _ _ _ _ _ _ _ call papers second european conference research advance technology digital library european european ics forth university union research crete consortium informatic mathematic september heraklion crete greece http www csus forth gr eurodl ecdl cc uch gr _ _ _ _ _ _ _ _ _ _ _ _ _ _ _ _ _ _ _ _ _ _ _ _ _ _ _ _ _ _ _ _ _ _ _ _ _ _ _ _ _ _ _ _ _ _ _ _ _ _ _ _ _ _ _ _ _ _ _ _ _ sure check follow category paper poster accept tutorial panel demo invite speaker special session _ _ _ _ _ _ _ _ _ _ _ _ _ _ _ _ _ _ _ _ _ _ _ _ _ _ _ _ _ _ _ _ _ _ _ _ _ _ _ _ _ _ _ _ _ _ _ _ _ _ _ _ _ _ _ _ _ _ _ _ _ objective conference second series european conference research technology digital library fund european commission s tmr programme objective bring together researcher multiple discipline whose science relate development digital library provide opportunity scientist form research community europe specific digital library development enable discuss issue strategy specific european context assist young researcher establish relationship senior scientist area interest enable review discussion research under europe us japan country digital library stimulate researcher especially young scientist explore area interest digital library development establish forum discussion issue specific europe interoperability multilinguality intellectual property policy information commerce provide opportunity researcher relevant enable technology information science discuss issue relate interoperability between world wide distribute digital library technical point view european conference series aim contribute definition those digital library parameter especially influence issue access retrieval interaction information identify key problem must solve digital library service effective reality identify general structure framework integrate research solution propose encourage specific high priority research direction within framework _ _ _ _ _ _ _ _ _ _ _ _ _ _ _ _ _ _ _ _ _ _ _ _ _ _ _ _ _ _ _ _ _ _ _ _ _ _ _ _ _ _ _ _ _ _ _ _ _ _ _ _ _ _ _ _ _ _ _ _ _ _ _ _ _ _ _ _ topic conference organiser solicit papers topic relate digital library include limit follow list o digital library model framework system requirement o metada o system integration architecture issue o interoperability scalability o network information discovery agent technology o information retrieval organisation navigation tool paradigm o multilinguality o role knowledge representation system digital library interaction o collect capture filter cataloge index o preserve o intellectual property right term condition right management o author electronic publish electronic commerce information economy o economic social implication issue o user interface o handle graphic gis medical data multimedium information experimental data o scientific model _ _ _ _ _ _ _ _ _ _ _ _ _ _ _ _ _ _ _ _ _ _ _ _ _ _ _ _ _ _ _ _ _ _ _ _ _ _ _ _ _ _ _ _ _ _ _ _ _ _ _ _ _ _ _ _ _ _ _ _ _ _ _ _ _ _ _ _ _ _ conference programme conference hold heraklion crete greece tutorial organise th th september list accept tutorial please consult relevant section below open session place a m monday th september final session place wednesday afternoon th september full detail scientific programme conference publish our web site st july _ _ _ _ _ _ _ _ _ _ _ _ _ _ _ _ _ _ _ _ _ _ _ _ _ _ _ _ _ _ _ _ _ _ _ _ _ _ _ _ _ _ _ _ _ _ _ _ _ _ _ _ _ _ _ _ _ _ _ _ _ _ _ _ important date paper proposal poster deadline june notification paper poster acceptance july scientific programme web july final papers due september tutorial september conference _ _ _ _ _ _ _ _ _ _ _ _ _ _ _ _ _ _ _ _ _ _ _ _ _ _ _ _ _ _ _ _ _ _ _ _ _ _ _ _ _ _ _ _ _ _ _ _ _ _ _ _ _ _ _ _ _ _ _ _ _ _ _ _ _ _ _ poster dure conference space reserve poster session research project scale invite illustrate innovative concept prototype system poster proposal include title name presenter outline max word electronic submission obligatory proposal submit e mail conference secretariat ecdl cc uch gr _ _ _ _ _ _ _ _ _ _ _ _ _ _ _ _ _ _ _ _ _ _ _ _ _ _ _ _ _ _ _ _ _ _ _ _ _ _ _ _ _ _ _ _ _ _ _ _ _ _ _ _ _ _ _ _ _ _ _ _ _ _ _ _ _ _ _ _ _ _ paper submission detail paper max page double space submit electronically html format either e mail conference secretariat ecdl cc uch gr our ftp site ftp ftp ic forth gr eurodl either case please follow guideline below submission exaclty one html file contain paper text suitable review print each figure material except text separate file file consist paper gather single file zip tar format submit paper please note electronic submission obligatory either e mail ftp send separate e mail message ecdl cc uch gr contain title abstract keyword paper relevant contact information deadline paper submission important information best papers propose publication special issue ijodl best papers conference propose publication after revision referee process special issue international journal digital library http link springer de link service journal index htm accept papers publish springer accept papers conference publish springer upon selection paper oblige provide us another copy paper latexe ms word format follow guideline provide springer final date preparation accept papers july detail information prepare accept papers publish springer verlag web site http www springer de please sure read information author http www springer de comp lnc author html version author s instruction retrieve file pdf format http www springer de comp lnc instruct typeinst pdf postscript format http www springer de comp lnc instruct typeinst p retrieve relate file our web site information available our web page shortly _ _ _ _ _ _ _ _ _ _ _ _ _ _ _ _ _ _ _ _ _ _ _ _ _ _ _ _ _ _ _ _ _ _ _ _ _ _ _ _ _ _ _ _ _ _ _ _ _ _ _ _ _ _ _ _ _ _ _ _ _ _ _ _ _ _ _ _ _ _ panels tutorials demos detail information regard tutorial demo panel conference web page http www ic forth gr eurodl highlight html brief accept tutorial conference follow http www ic forth gr eurodl highlight tutorial html standard interface digital library larry masinter thesaurus knowledge base assistance search digital library dagobert soergel visual information system babu m mehtre multimedium information retrieval categorisation filter pasquale savino fabrizio sebastianus design content web tomorrow world wide web consortium sponsor tutorial bert bo metada web resource description framework rdf world wide web consortium sponsor tutorial janne saarelum metada network resource renato iannellum carl lagoze stuart weibel tutorial registration form available shortly our web page accept panel conference http www ic forth gr eurodl highlight panel html interaction design digital library panelist constantine stephanidi david benyon mark maybury daniel dardailler dan diaper digital video library provide access move image panelist richard paterson rachel hugh robin wright bruce tonkin digital library technology health cbe panel coordinator prof stelio orphanoudaki architecture service cultural heritage information panel coordinator pano constantopoulo metada content base approach resource discovery panel organizer thoma baker judith klavan accept demo conference http www ic forth gr eurodl highlight demo html liberation robert stubenrauch aquarelle vassili christophide aonta cabernet technical report abstract service frank siqueira low cost digital library philip konomo multilingual informedium demonstration speech recognition information retrieval across multiple language howard wactlar arhon multimedium database design image document kosta chandrino nara institute science technology naist digital library system hidekus sunahara document management system saros mezzanine norbert lossau unicode base digital library interface saranto kapidaki ercim technical reference digital library stefanium biagionus cibit biblioteca telematica italiana digital library italian cultural heritage eugenio picchus intex search information full text maurice gross calliope experiment digital library catherine alauzun _ _ _ _ _ _ _ _ _ _ _ _ _ _ _ _ _ _ _ _ _ _ _ _ _ _ _ _ _ _ _ _ _ _ _ _ _ _ _ _ _ _ _ _ _ _ _ _ _ _ _ _ _ _ _ _ _ _ _ _ _ _ _ _ _ _ _ _ _ _ _ _ _ _ _ _ _ _ _ invite speaker http www ic forth gr eurodl highlight html speaker dr donald f ferguson senior manager ibm t j watson reseach center ibm academy usa software system middleware information economy digital library dr jame j o donnell professor classical study vice provost compute university pennsylvanium usa digital library university dr amy friedlander cnri editor d lib magazine dr william y arm cnri publisher d lib magazine publish spee web light experience d lib magazine mark t maybury advance information system center mitre corporation intelligent multimedium information access _ _ _ _ _ _ _ _ _ _ _ _ _ _ _ _ _ _ _ _ _ _ _ _ _ _ _ _ _ _ _ _ _ _ _ _ _ _ _ _ _ _ _ _ _ _ _ _ _ _ _ _ _ _ _ _ _ _ _ _ _ _ _ _ _ _ _ _ _ _ _ _ _ _ _ _ _ _ _ special session http www ic forth gr eurodl highlight html session special session digital library technology library hold during conference detail information conference web site session organiser ann okerson speaker diann rusch feja john price wilkin chri rusbridge _ _ _ _ _ _ _ _ _ _ _ _ _ _ _ _ _ _ _ _ _ _ _ _ _ _ _ _ _ _ _ _ _ _ _ _ _ _ _ _ _ _ _ _ _ _ _ _ _ _ _ _ _ _ _ _ _ _ _ _ _ _ _ _ _ _ _ _ _ _ _ _ _ _ _ _ _ _ _ proceeding proceeding publish springer volume lecture note computer science series distribute conference _ _ _ _ _ _ _ _ _ _ _ _ _ _ _ _ _ _ _ _ _ _ _ _ _ _ _ _ _ _ _ _ _ _ _ _ _ _ _ _ _ _ _ _ _ _ _ _ _ _ _ _ _ _ _ _ _ _ _ _ _ _ _ _ _ _ _ _ _ _ _ _ _ _ _ _ _ _ _ fellowship young researcher limit number fellowship conference tutorial available young researcher citizen european union country liechtenstein norway iceland fellowship offer free registration participant special case where necessary appropriately justify pay reimburse travel lodge expense _ _ _ _ _ _ _ _ _ _ _ _ _ _ _ _ _ _ _ _ _ _ _ _ _ _ _ _ _ _ _ _ _ _ _ _ _ _ _ _ _ _ _ _ _ _ _ _ _ _ _ _ _ _ _ _ _ _ _ _ _ _ _ _ _ _ _ _ _ _ _ _ _ _ _ _ _ _ _ programme chair christo nikolaou university crete ics forth leoforo knossou gr heraklion crete greece tel fax e mail nikolau cc uch gr _ _ _ _ _ _ _ _ _ _ _ _ _ _ _ _ _ _ _ _ _ _ _ _ _ _ _ _ _ _ _ _ _ _ _ _ _ _ _ _ _ _ _ _ _ _ _ _ _ _ _ _ _ _ _ _ _ _ _ _ _ _ _ _ _ _ _ _ _ _ _ _ _ _ _ _ _ _ _ programme committee serge abiteboul inria france robert b allen bellcore usa thoma baker asian institute technology thailand william birmingham university michigan usa pano constantopoulo university crete ics forth greece bruce croft university massachusett usa costi dalla hellenic ministry foreign affair greece edward fox virginium technical university usa norbert fuhr university dortmund germany hector garcium molina stanford university usa keith jeffery ral clrc uk martin kersten cwi netherland judith klavan columbium university usa carl lagoze cornell university usa clifford lynch coalition network information usa jeff mackie mason university michigan usa desaus narasimhalu national university singapore singapore ann okerson yale university usa olle olsson sics sweden andrea paepcke stanford university usa nichola patrikalaki mit usa carol peter iei cnr italy jakka sairamesh ibm t j watson research center usa peter schauble eth zurich switzerland han joerg schek eth zurich switzerland eric simon inria france ingeborg t solvberg university science technology norway constantine stephanidi ics forth greece shigeo sugimoto university library information science japan costantino thano iei cnr italy ulrich thiel gmd ipsi germany stuart weibel oclc usa _ _ _ _ _ _ _ _ _ _ _ _ _ _ _ _ _ _ _ _ _ _ _ _ _ _ _ _ _ _ _ _ _ _ _ _ _ _ _ _ _ _ _ _ _ _ _ _ _ _ _ _ _ _ _ _ _ _ _ _ _ _ _ _ _ _ _ _ _ _ _ _ _ _ _ _ _ _ _ local organise committee saranto kapidaki ics forth greece penelope constanta ics forth greece spyro lali university crete greece gioylh koraoy university crete greece stellum vourou university crete ics forth greece mixalh tzekakh university crete greece maria stavrakakus university crete greece rena kalaitzakus university crete greece maria prevelianakus ics forth greece liana kefalakus ics forth greece dimitri papadaki university crete greece manoli marazaki university crete greece anastasium anastasiadus ics forth greece stavro papadaki university crete greece _ _ _ _ _ _ _ _ _ _ _ _ _ _ _ _ _ _ _ _ _ _ _ _ _ _ _ _ _ _ _ _ _ _ _ _ _ _ _ _ _ _ _ _ _ _ _ _ _ _ _ _ _ _ _ _ _ _ _ _ _ _ _ _ _ _ _ _ _ _ _ _ _ _ _ _ _ _ _ contact info information regard conference contact conference secretariat rena kalaitzakus maria stavrakakus university crete computer science department tel fax e mail ecdl cc uch gr _ _ _ _ _ _ _ _ _ _ _ _ _ _ _ _ _ _ _ _ _ _ _ _ _ _ _ _ _ _ _ _ _ _ _ _ _ _ _ _ _ _ _ _ _ _ _ _ _ _ _ _ _ _ _ _ _ _ _ _ _ _ _ _ _ _ _ _ _ _ _ _ _ _ _ _ _ _ _ subscribe announcement list second european conference research advance technology digital library send electronic mail majordomo csus forth gr body s ubscribe ecdl announce email address \n",
      "\n",
      "\n",
      " 4 : \t subject position japan o hayo senseus available issue o hayo senseus free e mail newsletter teach job japan list over currently available position include current exchange rate airfare unique classify ad section put touch japan teaching relate information around world receive issue free send e mail message text string issue body subject mailto issue ohayosenseus com complete issue e mail back within few hour check www site http www ohayosenseus com preview information luck lynn cullivan editor o hayo senseus editor ohayosenseus com \n",
      "\n",
      "\n",
      " 5 : \t subject pragma nd call paper pragma international pragmatic conference pragmatics negotiation june tel aviv university hebrew university jerusalem tel aviv jerusalem israel main theme conference pragmatic negotiation interpret broad sense interlocutor engage negotiation every aspect interaction floor access topic selection contextual assumption conversational goal mi interpretation repair message topic cross cultural cross gender mi communication conversational procedure dispute collaboration argumentation practice effect assumption goal negotiate strategy interlocutor special interest conference conference interdisciplinary bring together pragmaticist linguist philosopher anthropologist sociologist political scientist solicit papers issue relevant theme conference papers area pragmatic dialogue analysis conference include plenary address regular session lecture organize panel around relevant topic among plenary speaker elinor och ucla itamar rabinovitch tel aviv university emanual schegloff ucla thoma schell university maryland deborah schiffrin georgetown university deborah tannen georgetown university ruth wodak university vienna presentation regular session lecture minute long subsequent discussion minute panel form series closely relate lecture specific topic directly relate special topic conference consist one two three unit minute within each panel unit maximum four minute presentation consecutively follow minimum minute discussion either devote entirely open discussion part comment discussant discussant panel compose contribution attract panel organizer combine individually submit papers judge appropriate program committee consultation panel organizer typically write version extensive outline panel contribution available before conference facilitate discussion submissions abstract papers panel submit follow format papers five copy anonymous abstract word panel preliminary proposal one page detail title area interest name organizer s invite participant send sept organizer approve panel invite submit full set abstract include brief description topic area b list participant full detail below c abstract each participant november case page state title b audiovisual computer request c each author full name affiliation ii current address iii e mail address iv fax number deadline submission abstract nov abstract send hard copy disk e mail pragma faculty humanity tel aviv university tel aviv israel e mail pragma post tau ac il deat notification march program committee mira ariel hava bat zeev shyldkrot jonathan berg anat biletzkus shoshana blum kulka marcelo dascal nomus erteschik shir tamar katriel ruth manor george elium sarfatus elda weizman yael ziv pragma registration form please send follow information accompany cheque payable tel aviv university amount us pay before november otherwise us pragma faculty humanity tel aviv university tel aviv israel dr mr mr ms name _ _ _ _ _ _ _ _ _ _ _ _ _ _ _ _ _ _ _ _ _ _ _ _ _ _ address _ _ _ _ _ _ _ _ _ _ _ _ _ _ _ _ _ _ _ _ _ _ _ _ _ _ _ _ _ _ _ _ _ _ _ _ _ _ _ _ _ _ _ _ _ _ _ university organization _ _ _ _ _ _ _ _ _ _ _ _ _ _ _ _ _ _ _ _ _ _ _ _ _ _ _ _ _ _ _ _ _ _ _ email _ _ _ _ _ _ _ _ _ _ _ _ _ _ _ _ _ _ _ _ _ _ _ _ _ _ fax _ _ _ _ _ _ _ _ _ _ _ _ _ _ _ _ _ _ _ _ home _ _ _ _ _ _ _ _ _ _ _ _ _ _ _ office telephone _ _ _ _ _ _ _ _ _ _ _ _ _ _ _ _ _ _ _ _ home _ _ _ _ _ _ _ _ _ _ _ _ _ office signature _ _ _ _ _ _ _ _ _ _ _ _ _ _ _ _ _ _ _ _ _ deat _ _ _ _ _ _ _ _ _ _ _ _ _ _ _ _ those wish pay credit card provide follow information type credit card mastercard visa american express name appear credit card sum paymnt us _ _ _ _ _ _ _ _ _ _ card _ _ _ _ _ _ _ _ _ _ _ _ _ _ _ _ _ _ _ _ _ _ _ _ expiration deat _ _ _ _ _ _ _ _ _ _ _ _ _ _ _ _ _ _ deat _ _ _ _ _ _ _ _ _ _ _ _ _ _ _ signature _ _ _ _ _ _ _ _ _ _ _ _ _ _ _ _ _ _ _ _ _ those wish present paper follow instruction above hotel information provide after registration international association dialogue analysis co sponsor part our conference devote negotiation dialogic concept further information contact edda weigand e mail weigand uni muenster de form return fax e mail pragma post tau ac il \n",
      "\n",
      "\n",
      " 6 : \t subject relevance theory workshop relevance theory workshop september university luton england call paper registration second relevance theory workshop aim bring together those interest cognitive approach communication particular exclusively relevance theory workshop feature referee invite papers include keynote address professor deirdre wilson papers contribution invite papers follow topic non truth conditional mean conceptual procedural encode metarepresentation interpretive nature relation between distinction semantics pragmatic explicature implicature critique relevance theory topic deal relevance theoretic perspective bear relevance theory paper topic present special topic panel minute papers allocate minute presentation discussion either complete papers distribute advance workshop order increase chance useful feedback instructions contributors order distribute proceedings advance full length papers invite rather usual abstract paper form pre publication draft maximum page length include reference short ten line abstract manuscript type point font single space inch cm margin side page number three copy manuscript submit one author s name two anonymously please include follow information seperate sheet name address postal e mail available affiliation title paper topic paper relate above contact telephone number manuscript submit dr steve nicolle middlesex university trend park bramley road london n yz united kingdom deadline submission april contributor inform status paper end additional information second relevance theory workshop schedule place immediately prior autumn meet linguistic association great britain september university luton lagb meet feature keynote address professor dan sperber workshop experimental pragmatic luton easily accessible london own international airport registration form wish register please complete form send back evidence payment following address dr vlad zegarac dept linguistic university luton faculty humanity castle street luton bedfordshire lu aj united kingdom name _ _ _ _ _ _ _ _ _ _ _ _ _ _ _ _ _ _ _ _ _ _ _ _ _ _ _ _ _ _ _ _ _ _ _ _ _ _ _ _ _ address correspondence _ _ _ _ _ _ _ _ _ _ _ _ _ _ _ _ _ _ _ _ _ _ _ _ _ _ _ _ _ _ _ _ _ _ _ _ _ _ _ _ _ _ _ _ _ _ _ _ _ _ _ _ _ _ _ _ _ _ _ _ _ _ _ _ _ _ _ _ _ _ _ _ _ _ _ _ _ _ _ _ _ _ _ _ _ _ _ _ _ _ _ _ _ _ _ _ _ _ e mail address _ _ _ _ _ _ _ _ _ _ _ _ _ _ _ _ _ _ _ _ _ _ _ _ _ _ _ _ _ _ _ _ _ _ _ register please circle b whole conference package b conference fee option indicate below please put tick line next choose option package price stlg send arrive end june include conference fee obligatory stlg _ _ _ _ _ _ _ _ _ _ _ _ _ _ _ _ _ _ _ _ _ _ _ _ _ _ _ _ _ _ _ _ _ _ _ _ _ _ _ _ _ _ _ _ option include package lunch th sept stlg _ _ _ dinner th sept stlg _ _ _ accommodation inc breakfast sept stlg _ _ _ _ _ lunch th sept stlg _ _ _ _ _ dinner th sept stlg _ _ _ _ _ accommodation inc breakfast sept stlg _ _ _ _ _ _ _ _ _ _ _ _ _ _ _ _ _ _ _ _ _ _ _ _ _ _ _ _ _ _ _ _ _ _ _ _ _ _ _ _ _ _ _ _ _ _ _ _ _ _ _ _ _ _ _ _ _ _ _ _ _ _ extra option include package accommodation inc breakfast sept stlg _ _ _ _ _ accommodation inc breakfast sept stlg _ _ _ _ _ lunch sept stlg _ _ payments made after end june add extra stlg methods payment return hard copy form either enclose cheque payable university luton complete sign follow instruction please debit stlg _ _ _ _ _ _ visa mastercard number _ _ _ _ _ _ _ _ _ _ _ _ _ _ _ _ _ _ _ _ _ _ _ _ _ _ _ _ _ _ _ _ _ _ valid until _ _ _ _ _ _ _ _ _ _ name print _ _ _ _ _ _ _ _ _ _ _ _ _ _ _ _ _ _ _ _ _ _ _ _ _ _ _ _ _ _ _ signature _ _ _ _ _ _ _ _ _ _ _ _ _ _ _ _ _ _ _ _ _ _ _ _ _ _ _ _ _ _ _ _ _ _ _ pay direct bank transfer university luton midland bank plc george street luton bed unite kingdom account number sort code please encolse bank receipt hard copy registration form obtain vlad zegarac above address \n",
      "\n",
      "\n",
      " 7 : \t subject symposium mean metaphor religion symposium announcement meaning metaphor religion cognitive semantics bible importance cognitive theory mean study religious language university leuven july aim meeting symposium aim determine cognitively inspire theory mean broad sense provide study religious language valuable insight specifically investigate extent establish ongo research semantics bible text support question cognitive semantic paradigm although meet primarily conceive linguistic point view mean linguist alone instead explicitly aim bring together semantic expertise both linguistics theology order explore possibility limitation combine study religious language where symposium place leuven b historical begijnhof site chievre house faculty club program ralph bisschop brussel duisburg metaphor disclose religious experience lover bride adulteress hosea ezekiel lieven boeve leuven linguistica ancillum theologia interest fundamental theology cognitive linguistics kristin de troyer breda leuven god create translate hebrew concept greek rene dirven duisburg metonymic view world religion contrast metaphorical one brian doyle leuven isotope meet rbe word play metaphor isa jame franci sunderland lowly child child metaphor ancient world katrin hauspie leuven cognitive approach septuagint place septuagint original context alexandrium joel hoffman york identify understand translate metaphor dead language move beyond denotation word connotation word olaf jaekel hamburg cognitive theory metaphor explanation basis biblical language kjell magne yrus oslo recreate religion semantic theory problem theologically central term exotic bible translation ken mcelhanon arlington exploration prototype theology nelly stienstra utrecht conceptual v individual metaphor old testament matter interpretation david tuggy tucson literal v idiomatic translation cognitive linguistic pierre van hecke leuven metaphorical s hebrew verb ra ah cognitive approach shepherd metaphor registration wish register please complete hardcopy form send back hard copy evidence payment following address kurt feyaert dept linguistic katholieke universiteit leuven blijde inkomststraat b leuven name _ _ _ _ _ _ _ _ _ _ _ _ _ _ _ _ _ _ _ _ _ _ _ _ _ _ _ _ _ _ _ address correspondence _ _ _ _ _ _ _ _ _ _ _ _ _ _ _ _ _ _ _ _ _ _ _ _ _ _ _ _ _ _ _ _ _ _ _ _ _ _ _ _ _ _ _ _ _ _ _ _ _ _ _ _ _ _ _ _ _ _ _ _ _ _ _ _ _ _ _ _ _ _ _ _ _ _ _ _ _ _ _ _ _ _ _ _ _ _ _ _ _ _ _ _ _ _ _ _ _ _ _ _ _ _ _ _ email _ _ _ _ _ _ _ _ _ _ _ _ _ _ _ _ _ _ _ _ _ _ _ _ _ _ _ _ _ _ _ _ _ _ _ _ _ _ register please circle b whole conference package conference fee lunch bef below b conference fee lunch option indicate below please put tick line next choose option conference fee obligatory bef staff member belgian unversity student exempt pay conference fee option lunch th july bef _ _ _ _ lunch th july bef _ _ _ _ lunch th july bef _ _ _ _ total _ _ _ _ payments must made before end methods payment return hard copy form o visa o eurocard mastercard complete sign follow instruction card number _ _ _ _ _ _ _ _ _ _ _ _ _ _ _ _ _ _ _ _ _ _ _ _ _ _ _ _ _ _ _ _ _ _ _ name cardholder _ _ _ _ _ _ _ _ _ _ _ _ _ _ _ _ _ _ _ _ _ _ _ _ _ _ _ _ _ _ address cardholder _ _ _ _ _ _ _ _ _ _ _ _ _ _ _ _ _ _ _ _ _ _ _ _ _ _ _ _ _ _ _ _ _ _ _ _ _ _ _ _ _ _ _ _ _ _ _ _ _ _ _ _ _ _ _ _ _ _ _ _ _ _ _ _ _ _ _ _ _ _ _ _ _ _ _ _ _ _ _ _ _ _ _ _ _ _ _ _ _ _ _ _ _ _ _ _ _ _ _ _ _ _ _ _ _ _ _ _ _ _ _ _ _ _ _ _ _ _ _ _ _ _ _ _ _ expiration date _ _ _ _ _ _ _ _ _ _ _ _ _ _ _ _ _ _ _ _ _ _ _ _ _ _ _ _ _ _ _ _ _ _ _ please debit _ _ _ _ _ _ bef visa eurocard mastercard signature _ _ _ _ _ _ _ _ _ _ _ _ _ _ _ _ _ _ _ _ _ _ _ _ international eurocheque please fill sum bef payable kuleuven congr theosemantiek direct bank transfer ku leuven congr theosemantiek blijde inkomststraat leuven belgium bank name address kredietbank ladeuzeplein leuven account number bank code swift kred bebb please enclose bank receipt please sure payment reach us due registration confirm effective payment accomodation please note accomodation cannot arrange organizer information hotel leuven price phone number address map leuven send immediately after registration demand before registration information obtain directly tourist office leuven phone fax average price single room breakfast leuven bef bef extreme bef double room bef extreme organization correspondence kurt feyaert dirk geeraert katholieke universiteit leuven department linguistic blijde inkomststraat b leuven phone fax email kurt feyaert art kuleuven ac dirk geeraert art kuleuven ac \n",
      "\n",
      "\n",
      " 8 : \t subject th intl conf conceptual structure c l l f o r p r t c p t o n fifth international conference conceptual structure fulfil peirce s dream august university washington seattle washington usa keynote address peirce s graph jay zeman pragmatic understand pivotal role conceptual structure daniel m rochowiak peircean foundation theory context john f sowa corali project conceptual graph conceptual graph vium label graph michel chein knowledge representation context formal definition world assertion guy w mineau olivier gerbe positive nest conceptual graph michel chein marie laure mugnier different perspective canonicity michel wermelinger aggregation conceptual graph william m tepfenhart representation semantic constraint conceptual graph system guy w mineau rokium missaouus representation default exception conceptual graph formalism catherine faron jean gabriel ganascium introduction viewpoint conceptual graph formalism myriam ribiere rose dieng knowlledge engineering task dependent aspect knowledge acquisition case study technical domain galium angelova kalina bontcheva uncover conceptual model ripple down rule kbs debbie richard paul compton knowledge modele annotate flow chart robert kremer dickson lukose brian gaine knowledge modeling complex modele construct model ecs dickson lukose modele cause effect legal text judith p dick information system modele cgs logic ryszard raban modele simulate human behavior conceptual graph corinne bo bernard botellum philippe vanheeghe formal concept analysis conceptual graph formal concept analysis rudolf wille triadic diagram represent three gosphel klaus biedermann concept exploration tool creat explore conceptual hierarchy gerd stumme logical scale formal concept analysis susanne prediger organization knowledge order factor gerard elli stephen callaghan formal reasoning c s peirce quest gamma graph peter oehrstroem sound complete proof procedure conceptual graph combine projection analytic tableaux gwen kerdile eric salvat fuzzy unification resolution proof procedure fuzzy conceptual graph program tru h cao peter n creasy vila wuwongse reason type definition michel leclere universal marker functional relation semantic operation tru h cao peter n creasy animate conceptual graph ryszard raban harry s delugach account domain knowledge construction generalization space isabelle bournaud jean gabriel ganascium rational affective link across conceptual case without rule graham mann conceptual graph corporate knowledge repository olivier gerbe applications conceptual graphs experiment document retrieval using conceptual graph david genest michel chein port testb paradigm knowledge process humanity mary keeler leroy searle christian kloesel using access path guide inference conceptual graph peter clark bruce porter apply conceptual graph theory user drive specification network information system aldo de moor generic trade service telecommunication platform arno puder k romer assess sowa s conceptual graph effective strategic management decision base comparative study eden s cognitive mapp simon polovina conceptual graph tools cgkat knowledge acquisition retrieval tool using structure document ontology philippe martin webkb set tool philippe martin deakin toolset conceptual graph base knowledge acquisition managment process tool brian garner eric tsuus dickson lukose egp extendible graph processor eric tsuus brian garner dickson lukose cgkee conceptual graph knowledge engineer environment dickson lukose menu base interface conceptual graph cglex approach galium angelova svetlana damyanova kristina toutanova kalina bontcheva knowledge extractor tool extract knowledge text walle r cyre cg mar lander gil fuch robert levinson pccg operational track grid creat conceptual graph randy p wolf harry s delugach registration form iccs international conference conceptual structure please complete full return iccs email lsearle u washington edu must post sign registration form together payment center humanity university washington cheque must payable university washington please print type first name _ _ _ _ _ _ _ _ _ _ _ _ _ _ _ _ _ _ _ _ _ _ _ _ _ name _ _ _ _ _ _ _ _ _ _ _ _ _ _ _ _ _ _ _ _ _ _ _ _ _ _ _ company affiliation _ _ _ _ _ _ _ _ _ _ _ _ _ _ _ _ _ _ _ _ _ _ _ _ _ _ _ _ _ _ _ _ _ _ _ _ _ _ _ _ _ _ _ _ _ _ _ _ _ _ _ _ address _ _ _ _ _ _ _ _ _ _ _ _ _ _ _ _ _ _ _ _ _ _ _ _ _ _ _ _ _ _ _ _ _ _ _ _ _ _ _ _ _ _ _ _ _ _ _ _ _ _ _ _ _ _ _ _ _ _ _ _ _ _ _ _ _ _ _ city _ _ _ _ _ _ _ _ _ _ _ _ _ _ _ _ _ _ _ _ _ _ _ _ _ _ _ _ _ _ _ _ _ _ _ _ state _ _ _ _ _ _ _ _ _ _ _ _ _ _ _ _ _ _ _ _ _ _ _ _ _ _ _ zip postal code _ _ _ _ _ _ _ _ _ _ _ _ _ _ _ _ _ _ _ country _ _ _ _ _ _ _ _ _ _ _ _ _ _ _ _ _ _ _ _ _ _ _ _ _ _ _ _ _ _ daytime telephone _ _ _ _ _ _ _ _ _ _ _ _ _ _ _ _ _ _ _ _ email _ _ _ _ _ _ _ _ _ _ _ _ _ _ _ _ _ _ _ _ _ _ _ _ _ _ _ _ _ fax number _ _ _ _ _ _ _ _ _ _ _ _ _ _ _ _ _ _ _ _ _ _ _ _ _ _ _ _ _ _ _ _ _ _ _ _ _ _ _ _ _ _ _ _ _ _ _ _ _ _ _ _ _ _ _ _ _ _ _ _ _ _ _ _ _ _ _ _ _ _ _ _ _ _ _ _ _ _ _ _ _ _ _ _ _ _ _ _ _ _ _ _ _ _ _ _ _ _ _ _ _ _ _ conference fee conference registration fee include follow o morn afternoon tea day o lunch day boee tour o salmon bbq wednesday august th o conference banquet thursday august th o conference proceeding lnai o registration cgtools workshop before after june th june th _ _ regular registration _ _ student registration _ _ single day registration _ _ additional tour salmon bbq ticket _ _ additional banquet ticket student must send legible proof full time student status _ _ _ _ _ _ _ _ _ _ _ _ _ _ _ _ _ _ _ _ _ _ _ _ _ _ _ _ _ _ _ _ _ _ _ _ _ _ _ _ _ _ _ _ _ _ _ _ _ _ _ _ _ _ _ _ _ _ _ _ _ _ _ _ _ _ _ _ _ _ _ _ _ _ _ tutorial fee before after june th june th sunday august rd morn _ _ historical view peirce _ _ formal concept analysis sunday august rd afternoon _ _ formal reason cg _ _ gamma graph modal part existential graph note register two tutorial cost second tutorial _ _ _ _ _ _ _ _ _ _ _ _ _ _ _ _ _ _ _ _ _ _ _ _ _ _ _ _ _ _ _ _ _ _ _ _ _ _ _ _ _ _ _ _ _ _ _ _ _ _ _ _ _ _ _ _ _ _ _ _ _ _ _ _ _ _ _ _ _ _ _ _ _ _ conference accommodation information own arrangement accommodation payment accommodation directly accommodation provider reserve over room dormitory hous motel hotel check follow url detail conference accommodation http www c uah edu iccs _ _ _ _ _ _ _ _ _ _ _ _ _ _ _ _ _ _ _ _ _ _ _ _ _ _ _ _ _ _ _ _ _ _ _ _ _ _ _ _ _ _ _ _ _ _ _ _ _ _ _ _ _ _ _ _ _ _ _ _ _ _ _ _ _ _ _ _ _ _ _ _ _ _ _ total fee registration tutorial extra charge banquet barbecue payment house must separately total fee please enter correct amount _ _ _ _ _ _ _ _ _ _ _ _ _ _ _ method payment please mark x method payment email fax registration must accompany credit card information _ _ american express _ _ mastercard _ _ visa _ _ cheque credit card account number _ _ _ _ _ _ _ _ _ _ _ _ _ _ _ _ _ _ _ _ _ _ _ _ _ _ _ _ expiration date _ _ _ _ _ _ _ _ _ _ name appear card _ _ _ _ _ _ _ _ _ _ _ _ _ _ _ _ _ _ _ _ _ _ _ _ _ _ _ _ signature _ _ _ _ _ _ _ _ _ _ _ _ _ _ _ _ _ _ _ _ _ _ _ _ _ _ _ _ _ _ _ _ _ _ _ _ _ _ _ _ _ _ _ _ _ disclaimer email fax us registration form credit card number send open text secure refunds request refund must receive write june th refund grant after date process fee levy refund grant refund paper author technical papers extend abstract cgtool special request _ _ special dietary need _ _ _ _ _ _ _ _ _ _ _ _ _ _ _ _ _ _ _ _ _ _ _ _ _ _ _ _ _ _ _ _ _ _ _ _ _ _ _ _ _ _ _ _ _ _ _ _ _ _ _ _ _ _ _ _ _ _ _ _ _ _ _ _ _ _ _ _ _ _ _ _ _ _ _ _ _ _ _ _ _ _ _ _ _ _ _ _ _ _ _ _ _ _ _ _ _ _ _ _ _ _ _ _ _ _ _ _ _ _ _ _ _ _ _ _ _ _ _ _ _ _ _ _ _ _ _ _ _ _ _ _ _ _ _ _ _ _ _ _ _ _ _ _ _ _ _ _ _ special access wheelchair _ _ _ _ _ _ _ _ _ _ _ _ _ _ _ _ _ _ _ _ _ _ _ _ _ _ _ _ _ _ _ _ _ _ _ _ _ _ _ _ _ please note registration cannot process information incomplete illegible please mail complete form payment iccs c o professor leroy searle center humanity box seatle wa university washington usa fax thank registration \n",
      "\n",
      "\n",
      " 9 : \t subject toc cognitive linguistic cognitive linguistics volume mouton de gruyter berlin york steve nicolle relevance theory perspective grammaticalization zoltan kovecse guenter radden metonymy develop cognitive linguistic view dorit ravid david hanauer prototype theory rhyme evidence hebrew _ _ _ _ _ _ _ _ _ _ _ _ _ _ _ _ _ _ _ _ _ _ _ _ _ _ _ _ _ _ _ _ _ _ _ _ _ _ _ _ _ _ _ _ _ _ _ _ _ _ _ _ _ _ _ _ _ _ _ _ _ _ _ _ _ _ _ _ _ _ _ mouton de gruyter walter de gruyter inc postfach saw mill river road d berlin hawthorne ny germany usa fax fax email mouton degruyter de further publication order vium world wide web http www degruyter de \n",
      "\n",
      "\n",
      " 10 : \t subject toc linguistic linguistics volume mouton de gruyter berlin york julium barron contraction explain trace effect theory without movement kerstin blume contrastive analysis interaction verb dative complement yaron matra utterance modifier universal grammatical borrow janice l jake construct interlanguage build composite matrix language book review notice _ _ _ _ _ _ _ _ _ _ _ _ _ _ _ _ _ _ _ _ _ _ _ _ _ _ _ _ _ _ _ _ _ _ _ _ _ _ _ _ _ _ _ _ _ _ _ _ _ _ _ _ _ _ _ _ _ _ _ _ _ _ _ _ _ _ _ _ _ _ _ linguistics volume mouton de gruyter berlin york laurie bauer is class neoclassical compound productive caroline wiltshire extend align constraint domain helen bird slip ear evidence postperceptual priority grammaticality christiane von stutterheim ute kohlmann selective hearer adaptation ralf klabunde robert porzel tailor spatial description addressee constraint base approach michael h kelly brunch brench aspect blend structure short note carol tenny psych verb verbal passive pittsburghese victor m longa newmeyer s view evolution generative grammar critical remark book review notice _ _ _ _ _ _ _ _ _ _ _ _ _ _ _ _ _ _ _ _ _ _ _ _ _ _ _ _ _ _ _ _ _ _ _ _ _ _ _ _ _ _ _ _ _ _ _ _ _ _ _ _ _ _ _ _ _ _ _ _ _ _ _ _ _ _ _ _ _ _ _ mouton de gruyter walter de gruyter inc postfach saw mill river road d berlin hawthorne ny germany usa fax fax email mouton degruyter de publication de gruyter order vium world wide web http www degruyter de \n",
      "\n",
      "\n",
      " 11 : \t subject prolamat call participation program call participation program _ _ _ _ _ _ _ _ _ _ _ _ _ _ _ _ _ _ _ _ _ _ _ _ _ _ _ _ _ _ _ ifip prolamat _ _ _ _ _ _ _ _ _ _ _ _ _ _ _ _ _ _ _ _ _ _ _ _ _ _ _ _ _ _ _ trento italy september call papers succesful over referee papers present conference three technical track share experience telecom industry agility innovation human machine communication model standard representation reuse telecom agility impact software technology discrete manufacture program include keynote speech apply track organise thematic session selection r td project co finance european community subject area relate prolamat information program registration fee accomodation form please call participation preliminary program prolamat weekly update web site http prolamat c unitn please note deadline reduce registration fee early registration early travel hotel book advisable prof giannus jacuccus conference chair \n",
      "\n",
      "\n",
      " 12 : \t subject lrec workshop pre final programme pre final programme call participation towards european evaluation infrastructure nl speech workshop jointly organise european network excellence language speech elsnet ec language engineering project else hold wednesday first international conference language resources evaluation granada spain right generic framework semi automatic quantitative black box evaluation speech nlp system exist europe confront choice developer user prefer ask opinion local expert process either unrealistic too costly le project else aim provide developer generic strategy definition primary build block need implement semi automatic quantitative black box evaluation scheme prominent speaker field invite present papers address motivation advantage problem connection implementation evaluation scheme international scale programme opening steven krauwer joseph marianus darpa experience charle wayne ethnology sociology evaluation lynette hirschman aupelf experience joseph marianus experience grace tag evaluation patrick paroubek experience bilingual text alignment evaluation word sense disambiguation jean veroni best practice evaluation ole bernsen lailum dybkjaer break confidence measure evaluation lin chase evaluation within eagle maghus king technology v user evaluation marc blasband evaluation better product christian dugast resource evaluation mark liberman organise parser evaluation richard sutcliffe specification infrastructure text summarization evaluation beth sundheim break else patrick paroubek panel session chair rob gaizauska closing select topic include multilingual nature evaluation lesson past europe us need language resource workshop first intermediate result else project present discuss call serve invite interest party active participation workshop dure workshop ample opportunity provide participant react presentation else project talk invite speaker furthermore participant opportunity brief position statement workshop timely place ec s th framework programme shape clear availability european evaluation infrastucture important factor european r d activity successful organize implement european scale programme committee workshop coorganize elsnet else programme committee participant else le project niel ole bernsen jean pierre chanod khalid choukrus robert gaizauska steven krauwer isabelle de lamberterie joseph marianus klaus netter patrick paroubek martin rajman antonio zampollus contact steven krauwer tran jk utrecht netherland phone fax email steven krauwer let ruu nl registration information lrec pre post conference workshops conference registration fee peseta ecu per participant reduce fee peseta ecu early registration march peseta ecu student fee cover follow service copy proceedings social dinner coffee break refreshments accompany person social dinner peseta ecu pre conference workshop pre conference workshop peseta each those attend lrec peseta each those attend lrec include copy proceedings workshop coffee break post conference workshop day post conference workshop peseta those attend lrec peseta those attend lrec include copy proceedings workshop coffee break registration willbe those person invite participate organizer advance registration payment registration form below registration on site must pay cash peseta registration forms first international conference language resources evaluation granada spain e mail fax lrec secretariat facultad de traduccion e interpretacion dpto de traduccion e interpretacion c puentezuela granada spain tel fax reli goliat ugr e name _ _ _ _ _ _ _ _ _ _ _ _ _ _ _ _ _ _ _ _ _ _ _ _ _ _ _ _ _ _ _ _ _ _ _ _ _ _ _ first name _ _ _ _ _ _ _ _ _ _ _ _ _ _ _ _ _ _ _ _ _ _ _ _ _ _ _ _ _ _ _ _ _ _ _ _ _ _ _ affiliation _ _ _ _ _ _ _ _ _ _ _ _ _ _ _ _ _ _ _ _ _ _ _ _ _ _ _ _ _ _ _ _ _ _ _ _ _ _ _ address _ _ _ _ _ _ _ _ _ _ _ _ _ _ _ _ _ _ _ _ _ _ _ _ _ _ _ _ _ _ _ _ _ _ _ _ _ _ _ _ _ _ _ _ _ _ _ _ _ _ _ _ _ _ _ _ _ _ _ _ _ _ _ _ _ _ _ _ _ _ _ _ _ _ _ _ _ _ city _ _ _ _ _ _ _ _ _ _ _ _ _ _ _ _ _ _ _ _ _ _ _ _ _ _ _ _ _ _ _ _ _ _ _ _ _ _ _ state province _ _ _ _ _ _ _ _ _ _ _ _ _ _ _ _ _ _ _ _ _ _ _ _ _ _ _ _ _ _ _ _ _ _ _ _ _ _ _ country _ _ _ _ _ _ _ _ _ _ _ _ _ _ _ _ _ _ _ _ _ _ _ _ _ _ _ _ _ _ _ _ _ _ _ _ _ _ _ postal zip code _ _ _ _ _ _ _ _ _ _ _ _ _ _ _ _ _ _ _ _ _ _ _ _ _ _ _ _ _ _ _ _ _ _ _ _ _ _ _ phone _ _ _ _ _ _ _ _ _ _ _ _ _ _ _ _ _ _ _ _ _ _ _ _ _ _ _ _ _ _ _ _ _ _ _ _ _ _ _ fax _ _ _ _ _ _ _ _ _ _ _ _ _ _ _ _ _ _ _ _ _ _ _ _ _ _ _ _ _ _ _ _ _ _ _ _ _ _ _ e mail _ _ _ _ _ _ _ _ _ _ _ _ _ _ _ _ _ _ _ _ _ _ _ _ _ _ _ _ _ _ _ _ _ _ _ _ _ _ _ web _ _ _ _ _ _ _ _ _ _ _ _ _ _ _ _ _ _ _ _ _ _ _ _ _ _ _ _ _ _ _ _ _ _ _ _ _ _ _ registration payment form registration fees full participant after march peseta ecu sub total _ _ _ _ _ _ _ _ _ _ student peseta ecu sub total _ _ _ _ _ _ _ _ _ _ registration fee include one copy proceedings social dinner coffee break refreshments social dinner accompany person peseta ecu sub total _ _ _ _ _ _ _ _ _ _ pre conference workshop peseta each those attend lrec peseta each those attend lrec please indicate workshop plan attend x _ _ _ _ _ linguistic coreference morn session _ _ _ _ _ adapt lexical corpus resource sublanguage application morn session _ _ _ _ _ evaluation parse system afternoon session _ _ _ _ _ minimize effort language resource acquisition afternoon session _ _ _ _ _ toward open european evaluation infrastructure nl speech morn session _ _ _ _ _ language resource european minority language morn session _ _ _ _ _ speech database development central eastern europeanlanguage afternoon session _ _ _ _ _ distribute access linguistic resource afternoon session total number _ _ _ _ _ _ _ _ _ _ x attend lrec _ _ _ _ _ _ _ _ _ _ x attend lrec _ _ _ _ _ _ _ _ _ _ sub total _ _ _ _ _ _ _ _ _ _ post conference workshop june _ _ _ _ _ _ _ translingual information management current level future ability register ask participate confirm organizer attend lrec attend lrec sub total _ _ _ _ _ _ _ _ _ _ grand total _ _ _ _ _ _ _ _ _ _ method payment pay credit card visa mastercard eurocard cannot accept american express diner club etc pay banker s cheque bank transfer eurocheque payment must spanish peseta payment banker s cheque bank transfer eurocheque please send regular mail payment credit card fax please e mail credit card number cannot guarantee security our e mail system require signature please indicate x one follow four payment option _ _ _ _ enclose banker s cheque spanish peseta payable first international conference language resource evaluation b _ _ _ _ transfer full fee bank transfer account banco central hispano c recogida granada account name first international conference language resource evaluation account number tell bank charge us bank charge first international conference language resource evaluation receive full fee enclose copy bank transferpaper person s name write transfer c _ _ _ _ please debit visa mastercard eurocard account amount _ _ _ _ _ _ _ _ _ _ _ _ _ _ _ _ _ _ _ _ _ _ _ _ _ _ _ _ _ _ _ _ _ _ _ _ _ _ _ _ _ card _ _ _ _ _ _ _ _ _ _ _ _ _ _ _ _ _ _ _ _ _ _ _ _ _ _ _ _ _ _ _ _ _ _ _ _ _ _ _ _ _ valid _ _ _ _ _ _ _ _ _ _ _ _ print card cardholder s name address name _ _ _ _ _ _ _ _ _ _ _ _ _ _ _ _ _ _ _ _ _ _ _ _ _ _ _ _ _ _ _ _ _ _ _ _ _ _ _ _ _ first name _ _ _ _ _ _ _ _ _ _ _ _ _ _ _ _ _ _ _ _ _ _ _ _ _ _ _ _ _ _ _ _ _ _ _ _ _ _ _ _ _ affiliation _ _ _ _ _ _ _ _ _ _ _ _ _ _ _ _ _ _ _ _ _ _ _ _ _ _ _ _ _ _ _ _ _ _ _ _ _ _ _ _ _ street address _ _ _ _ _ _ _ _ _ _ _ _ _ _ _ _ _ _ _ _ _ _ _ _ _ _ _ _ _ _ _ _ _ _ _ _ _ _ _ _ _ _ _ _ _ _ _ _ _ _ _ _ _ _ _ _ _ _ _ _ _ _ _ _ _ _ _ _ _ _ _ _ _ _ _ _ _ _ _ _ _ _ city _ _ _ _ _ _ _ _ _ _ _ _ _ _ _ _ _ _ _ _ _ _ _ _ _ _ _ _ _ _ _ _ _ _ _ _ _ _ _ _ _ state province _ _ _ _ _ _ _ _ _ _ _ _ _ _ _ _ _ _ _ _ _ _ _ _ _ _ _ _ _ _ _ _ _ _ _ _ _ _ _ _ _ country _ _ _ _ _ _ _ _ _ _ _ _ _ _ _ _ _ _ _ _ _ _ _ _ _ _ _ _ _ _ _ _ _ _ _ _ _ _ _ _ _ postal zip code _ _ _ _ _ _ _ _ _ _ _ _ _ _ _ _ _ _ _ _ _ _ _ _ _ _ _ _ _ _ _ _ _ _ _ _ _ _ _ _ _ e mail _ _ _ _ _ _ _ _ _ _ _ _ _ _ _ _ _ _ _ _ _ _ _ _ _ _ _ _ _ _ _ _ _ _ _ _ _ _ _ _ _ web _ _ _ _ _ _ _ _ _ _ _ _ _ _ _ _ _ _ _ _ _ _ _ _ _ _ _ _ _ _ _ _ _ _ _ _ _ _ _ _ _ signature card _ _ _ _ _ _ _ _ _ _ _ _ _ _ _ _ _ _ _ _ _ _ _ _ _ _ _ _ _ _ _ _ _ _ _ _ _ _ _ _ _ credit card charge process spanish peseta d _ _ _ _ enclose eurocheque s full fee write eurocheque number back each eurocheque mail fax lrec secretariat facultad de traduccion e interpretacion dpto de traduccion e interpretacion c puentezuela granada spain reli goliat ugr e fax visit our website further information http cere ugr e rubio elra html conference addresses conference chair antonio zampollus istituto dus linguistica computazionale del cnr president elra antonio zampollus lrec istituto dus linguistica computazionale del cnr vium dellum faggiolum pisa italy tel fax pisa ilc pi cnr secretariat conference provide general information conference lrec secretariat facultad de traduccion e interpretacion dpto de traduccion e interpretacion c puentezuela granada spain tel fax reli goliat ugr e conference program committee harald hoege siemen munich germany bente maegaard cst copenhagen denmark joseph marianus limsi cnrs orsay france angel martin municio president real academium de ciencia madrid spain antonio zampollus istituto dus linguistica computazionale pisa italy exhibition exhibition organise elra exhibition open company project wish promote present demonstrate language resource product prototype wide range expert representative over world participate conference information please contact elda office elra elda calva net elra information elra european language resource association please contact khalid choukrus elra ceo rue brillat savarin f pari france tel fax e mail elra calva net web http www icp grenet fr elra home html \n",
      "\n",
      "\n",
      " 13 : \t subject toc linguistic review linguistic review volume mouton de gruyter berlin york masatoshus koizumus invisible agr japanese tobia scheer unify model proper government maggie tallerman uniform case license subject welsh _ _ _ _ _ _ _ _ _ _ _ _ _ _ _ _ _ _ _ _ _ _ _ _ _ _ _ _ _ _ _ _ _ _ _ _ _ _ _ _ _ _ _ _ _ _ _ _ _ _ _ _ _ _ _ _ _ _ _ _ _ _ _ _ _ _ _ _ _ _ _ _ _ mouton de gruyter walter de gruyter inc postfach saw mill river road d berlin hawthorne ny germany usa fax fax email mouton degruyter de publication de gruyter order vium world wide web http www degruyter com \n",
      "\n",
      "\n",
      " 14 : \t subject rd emnlp cfp call participation emnlp call participation third conference empirical method natural language process emnlp sponsor acl sigdat tuesday june granada spain follow first international language resource evaluation conference lrec conference program session dynamic coreference base summarization breck baldwin thoma s morton multilingual robust anaphora resolution ruslan mitkov lamium belguith align clause parallel text sotiri boutsis stelio piperidi automatic insertion accent french text michel simard coffee break session valence induction head lexicalize pcfg glenn carroll mat rooth metric corpus similarity homogeneity adam kilgarriff tony rose word sense distinguishability inter coder agreement rebecca bruce janyce wiebe lunch invite speaker statistical translation where went kevin knight usc information science institute session category level hierarchical text categorization stephen d alessio keitha murray robert schiaffino aaron kershenbaum empirical approach text categorization base term weight learn fumiyo fukumoto yoshimus suzukus coffee break session empirical evaluation statistical parse japanese sentence using lexical association statistic shiraus kiyoakus inuus kentaro tokunaga takenobu tanaka hozumus japanese dependency structure analysis base lexicalize statistic fujio masakazu matsumoto yujus natural criterion maximum entropy minimum divergence feature selection adam berger harry printz registration information registration form available http www c vassar edu ide emnlp html registration fees registration before peseta usd site registration peseta usd registration fee include one copy proceedings coffee break refreshments methods payment check us dollar payable acl us bank address below cash on site registration visa mastercard us dollar credit card payment form below fax send regular mail email note however cannot guarantee security credit card number transit vium email payment send email emnlp c jhu edu fax regular mail emnlp c o david yarowsky sigdat department computer science john hopkin university n charle street baltimore md usa registration form name _ _ _ _ _ _ _ _ _ _ _ _ _ _ _ _ _ _ _ _ _ _ _ _ _ _ _ _ _ _ _ _ _ _ _ _ _ _ first name _ _ _ _ _ _ _ _ _ _ _ _ _ _ _ _ _ _ _ _ _ _ _ _ _ _ _ _ _ _ _ _ _ _ _ _ _ _ affiliation _ _ _ _ _ _ _ _ _ _ _ _ _ _ _ _ _ _ _ _ _ _ _ _ _ _ _ _ _ _ _ _ _ _ _ _ _ _ address _ _ _ _ _ _ _ _ _ _ _ _ _ _ _ _ _ _ _ _ _ _ _ _ _ _ _ _ _ _ _ _ _ _ _ _ _ _ _ _ _ _ _ _ _ _ _ _ _ _ _ _ _ _ _ _ _ _ _ _ _ _ _ _ _ _ _ _ _ _ _ _ _ _ _ _ city _ _ _ _ _ _ _ _ _ _ _ _ _ _ _ _ _ _ _ _ _ _ _ _ _ _ _ _ _ _ _ _ _ _ _ _ _ _ state province _ _ _ _ _ _ _ _ _ _ _ _ _ _ _ _ _ _ _ _ _ _ _ _ _ _ _ _ _ _ _ _ _ _ _ country _ _ _ _ _ _ _ _ _ _ _ _ _ _ _ _ _ _ _ _ _ _ _ _ _ _ _ _ _ _ _ _ _ _ _ _ _ _ postal zip code _ _ _ _ _ _ _ _ _ _ _ _ _ _ _ _ _ _ _ _ _ _ _ _ _ _ _ _ _ _ _ _ _ _ phone _ _ _ _ _ _ _ _ _ _ _ _ _ _ _ _ _ _ _ _ _ _ _ _ _ _ _ _ _ _ _ _ _ _ _ _ _ _ fax _ _ _ _ _ _ _ _ _ _ _ _ _ _ _ _ _ _ _ _ _ _ _ _ _ _ _ _ _ _ _ _ _ _ _ _ _ _ e mail _ _ _ _ _ _ _ _ _ _ _ _ _ _ _ _ _ _ _ _ _ _ _ _ _ _ _ _ _ _ _ _ _ _ _ _ _ _ web _ _ _ _ _ _ _ _ _ _ _ _ _ _ _ _ _ _ _ _ _ _ _ _ _ _ _ _ _ _ _ _ _ _ _ _ _ _ pay credit card please debit visa mastercard account amount _ _ _ _ _ _ _ _ _ _ _ _ _ _ _ _ _ _ _ _ _ _ _ _ _ _ _ _ _ _ _ _ _ _ _ _ _ _ _ _ _ card _ _ _ _ _ _ _ _ _ _ _ _ _ _ _ _ _ _ _ _ _ _ _ _ _ _ _ _ _ _ _ _ _ _ _ _ _ _ _ _ _ valid _ _ _ _ _ _ _ _ _ _ _ _ cardholder s name print card _ _ _ _ _ _ _ _ _ _ _ _ _ _ _ _ _ _ _ _ _ _ _ _ _ _ _ _ _ _ _ _ signature card _ _ _ _ _ _ _ _ _ _ _ _ _ _ _ _ _ _ _ _ _ _ _ _ _ _ _ _ _ _ _ _ _ _ _ _ _ _ _ _ _ credit card charge process us dollar pre registration cannot accept after registration after date must site submit registration keep mind possibility postal delay e mail registration avoid delay registration fee refundable registrant receive confirmation e mail copy proceedings available each order above address program chairs nancy ide chair department computer science vassar college raymond avenue poughkeepsie york usa tel fax e mail ide c vassar edu atro voutilainen co chair research unit multilingual language technology department general linguistic p o box keskuskatu th floor fin university helsinkus finland tel fax e mail atro voutilainen ling helsinkus fus program committee steven abney at t laboratory research usa susan armstrong issco geneva switzerland pascale fung hong kong univ science technology hong kong gregory grefenstette xerox research centre europe france eduard hovy usc isi usa dan jurafsky university colorado boulder usa kimmo koskenniemus university helsinkus finland hwee tou ng dso national laboratory singapore kemal oflazer bilkent university turkey peter schauble eth zurich switzerland keh yih su national tsing hua university taiwan dan tufi romanian academy science romanium evelyne viega mexico state university usa further information email emnlp c vassar edu web http www c vassar edu ide emnlp html http www c jhu edu yarowsky sigdat html \n",
      "\n",
      "\n",
      " 15 : \t subject whole part whole part w p bolzano maretsch castle june presentation science connect complementarity analysis synthesis classical physics characterize in built analysis world constituent part atom elementary particle recompose together provide means synthesis system interaction linearly locally describe result hierarchy structure ground constituent part contemporary science age pure analysis seem end deep mathematical reason non linear system property general cannot express term decomposition ultimate unstructure pointlike part plus suitable set relation among moreover dialectic quantity quality subtler previously dialectic need explanation sort phenomenon arise physics study cognitive system natural program language within psychology gestalten cohesive whole whole sum part mean exactly similar question emerge context relevant foundation science need clear understand part whole relationship emerge even logic mathematics since provide tool organize our rational image world multi stratify complexity thus face problem relate possibly coherent various form part whole relationship arise different branch science classify different kind whole inherent grammar account process formation whole order describe precisely sense whole emerge part irreducible aggregate autonomous less pointlike entity part least difference between mere aggregate cohesive whole member whole simply hang together hang together whole structure whole influence description part local interaction view grow interest sort pattern deep relevance theoretical apply science therefore suitable clarify whole part issue crucial field research compare different approach develop foundational discussion program june registration bill lawvere open lecture coffee break john bell w p algebraic logical structure lunch ieke moerdjik w p geometry topology topo theory coffee break colin mclarty w p foundation mathematics carlo celluccus w p logical analysis june steve vicker w p semantics program language gonzalo reye w p categorical analysis language coffee break john mayberry w p set theory lunch nile eldredge w p biology coffee break alberto peruzzus w p epistemology semantics roberto polus w p ontology june ettore casarus w p phenomenology alf zimmer w p gestalt psychology coffee break ron langacker w p linguistics lunch george lakoff w p cognitive science confirm coffee break chri isham w p quantum topology basil hiley w p mechanic cosmology updates keep update information conference url w p home page http www gelso unitn polus registration fees registration fee cover participation conference miscellaneous expense accomodation meal social activity addition registration deadline early registration fare march st student must enclose registration form photocopy student card status early registration before leat registration student scholar industrial accomodation participant book own accomodation select hotel list follow one parkhotel laurin laurinstrasse single room breakfast tel fax citta waltherplatz single room breakfast tel fax feichter vium weintraubengasse single room breakfast tel fax regina angelorum rittnerstrasse single room breakfast tel fax kolpinghaus student house spitalgasse single room breakfast tel fax above hotel walkable distance both railway station maretsch castle information city tourist office waltherplatz tel fax table saturday close sunday holiday methods payment cheque made italian lira payable istituto mitteleuropeo dus cultura vicolo gumer bolzano italy bank transfer sorry pay bank charge n t registration consider incomplete please enclose form copy transfer copy mention name adress bank forget write down name transfer bank transfer must italian lira account bank cassa dus risparmio dus bolzano account number swift code abi cab reference w p conference name address istituto mitteleuropeo dus cultura vicolo gumer bolzano italy method payment inconvenient possible pay cash once bolzano case pay late registration fee exception arrangement country allow long distance method payment above cancellation cancellation receive before april th run cost lira cancellation receive after th run cost registration fee registration form name _ _ _ _ _ _ _ _ _ _ _ _ _ _ _ _ _ _ _ _ _ _ _ _ _ _ _ _ _ _ _ _ _ _ _ _ _ _ _ _ _ _ _ _ first name _ _ _ _ _ _ _ _ _ _ _ _ _ _ _ _ _ _ _ _ _ _ _ _ _ _ _ _ _ _ _ _ _ _ _ _ _ _ _ _ institution _ _ _ _ _ _ _ _ _ _ _ _ _ _ _ _ _ _ _ _ _ _ _ _ _ _ _ _ _ _ _ _ _ _ _ _ _ _ _ _ _ address _ _ _ _ _ _ _ _ _ _ _ _ _ _ _ _ _ _ _ _ _ _ _ _ _ _ _ _ _ _ _ _ _ _ _ _ _ _ _ _ _ _ _ _ _ _ _ _ _ _ _ _ _ _ _ _ _ _ _ _ _ _ _ _ _ _ _ _ _ _ _ _ _ _ _ _ _ _ _ _ _ _ _ _ _ _ _ _ _ _ _ _ _ _ _ _ _ _ _ _ _ _ _ _ _ _ _ _ _ _ _ _ _ _ _ _ _ _ _ _ _ _ _ _ _ _ _ _ _ _ _ _ _ _ _ _ _ _ _ _ _ _ _ _ _ country _ _ _ _ _ _ _ _ _ _ _ _ _ _ _ _ _ _ _ _ _ _ _ _ _ _ _ _ _ _ _ _ _ _ _ _ _ _ _ _ _ _ _ phone _ _ _ _ _ _ _ _ _ _ _ _ _ _ _ _ _ _ _ _ _ _ _ _ _ _ _ fax _ _ _ _ _ _ _ _ _ _ _ _ _ _ _ _ _ _ _ _ _ _ _ _ _ _ _ _ _ e mail _ _ _ _ _ _ _ _ _ _ _ _ _ _ _ _ _ _ _ _ _ _ _ _ _ _ deat _ _ _ _ _ _ _ _ _ _ _ _ _ _ _ _ _ _ _ _ _ signature _ _ _ _ _ _ _ _ _ _ _ _ _ _ _ _ _ _ _ _ _ _ _ _ _ _ _ return e mail polus risc gelso unitn copy registration form together justificatory payment copy student card send surface mail istituto mitteleuropeo dus cultura vicolo gumer bolzano italy conference committee alberto peruzzus peruzzus dada roberto polus polus risc gelso unitn roberto polus department sociology social research verdus street trento italy tel fax e mail polus risc gelso unitn axiomathe http www soc unitn dsr axiomathe htm imc http www soc unitn dsr imc htm \n",
      "\n"
     ]
    }
   ],
   "source": [
    "print_FN_sentence (result_our_emails, test_labels_emails, DF_test_emails)"
   ]
  },
  {
   "cell_type": "code",
   "execution_count": 38,
   "metadata": {},
   "outputs": [
    {
     "name": "stdout",
     "output_type": "stream",
     "text": [
      "False-Positive sentences :\n",
      "\n",
      " 1 : \t subject webmine free white paper datum mine web datum http www webminer com paper htm \n",
      "\n",
      "\n",
      " 2 : \t subject data coffee northcoastcoffee com deat thu jan pst subject free coffee grinder reply remove northcoastcoffee com remove yourself our mail list message subject necessary dear fellow coffee drinker ve ever taste coffee bean roast few day before m talk believe one life s simple pleasure cup coffee truly great coffee coffee bean grind moment before brew s why north coast coffee free caf mill coffee grinder try our exceptional coffee here north coast coffee roast coffee order before order place collect combine order each morn specific coffee need day roast caf mill coffee grinder warranty normally retail absolutely free join mike s coffee crew purchase pound freshest coffee ever taste free caf mill coffee grinder http www northcoastcoffee com ccrew htm mike s coffee crew page s easy order within few day ll fun grind own coffee bean enjoy best coffee ever taste coffee north coast expensive example columbium supremo pound guatemalan antigua per pound great flavor african coffee our kenya aa pound tanzanian peaberry per pound become part mike s coffee crew cost nothing fee commitment buy first pound coffee ll send grinder yours keep even quit after first shipment coffee offer s easy great coffee great price once try re really fact ll much ll want tell coffee love friend sorry coffee fresh north coast s can t grocery store nor even most coffee shop coffee shop stock coffee shop means sit store week sometime even longer north coast coffee roast coffee order before great coffee fresh roast coffee freshest coffee unless roast yourself north coast coffee free grinder today click http www northcoastcoffee com ccrew htm soon ll drink best coffee ever taste michael shaffer coffee lover president north coast coffee company \n",
      "\n",
      "\n",
      " 3 : \t subject hello university degree programs increase personal prestige money earn power through advance university degree eminent non accredit university award degree degree grant base present knowledge experience further effort necessary part short phone call require ba ma mba phd diploma field choice detail call \n",
      "\n",
      "\n",
      " 4 : \t subject info dear ion happy idea many share interest figurative language excite s language work operational language computer binary operational language human mind picture psychotherapy call metaphor therapy figurative statement treat literally interest figurative speech s approach figure figurative speech heal dissolve persistent uncomfortable feeling figure speech salt language reflect inner figure subconscious mind example someone s cloud over head subconscious mind cloud cloud feel real internally subconscious mind accept real s why dream appear real conscious mind turn off during sleep important s key inner mind treat figure picture real open subconscious mind accept image real begin figure image reflect our inner world bring fascinate information surface work within realm person s own symbolic representation problem issue facilitate profound change using word core our feeling help change behavior decision choice strong connection between figurative language heal understand produce verbal technology enter control center mind heal psyche figure language root psyche where thought feeling decision originate affect change vantagepoint produce greater satisfaction personal life professional performance productivity above state mind never underestimate power mind affect realm health happiness best gain improve control life control center where thought feeling begin thought feeling conscious awareness without effort our part directly conscious mind language subconscious neither english nor japanese picture image metaphor therapy unique innovate approach speak same operational language inner mind subconscious mind foundation our ego emotion where most depression anxiety eat compulsive disorder phobia obsessive thought urge unwant behavior originate while already s understand behind each symptom persistent uncomfortable feeling ability speak therapeutic picture language inner mind where obstacle begin uncomfortable feeling trail lead root almost problem change occur root alway dynamic change surface lead outward change inner heal promote outward change control stronger mind goe directly control center mind add benefit recapture wholeness innate strength bear natural course grow lose part self adjust demand world child subject abuse neglect trauma our spirit break bruise along conform put our feeling aside adult re catch life threaten situation where death appear imminent even us ego dissociate prior event shut down avoid event feeling ego somewhere else let happen quality characteristic self lose leave vague linger feel something miss recover miss fragment self restore esoteric nonsense concrete discipline base recent advancement permit direct access our inner mind speak language inner mind afford best opportunity heal occur restoration self dissolve great many negative feeling mind clearer stronger metaphor therapy unleash strong innate power within mind s ability heal itself create base self confidence genuine want word metaphor therapy since real hope please share letter part happy specific information approach answer question d example healing accomplish figurative language please let best drs www angelfire com ak drsiegel \n",
      "\n",
      "\n",
      " 5 : \t subject req university degree programs increase personal prestige money earn power through advance university degree eminent non accredit university award degree degree grant base present knowledge experience further effort necessary part short phone call require ba ma mba phd diploma field choice detail call \n",
      "\n",
      "\n",
      " 6 : \t subject ask join bancurus list owner bancurus invite join mail list listbot must reply message join list simply reply blank message join list owner include follow welcome message vreus sa primestus fiecare zus un e mail cu cel maus tare banc al zileus tot ce trebuie sa facus este sa te inscrius la lista de bancurus celuus maus tare site domeniu http bancurus hypermart net vreus sa razus vreus sa te simtus bine estus trist ti se pare ca nimic nu merge cum trebuie vino la adresa de maus sus si nu veus regreta tarif zambete minut web master verification message confirm able send mail protect case someone forge subscription request name believe forge subscription request ignore message add mail list problem reply function e mail client address respond v eaffbed listbot com listbot put control let manage list subscription single web site visit http www listbot com cgi bin subscriber wish unsubscribe manage list subscription listbot list visit list s home page http bancurus _ glume listbot com thank sincerely listbot team part linkexchange family http www linkexchange com \n",
      "\n",
      "\n",
      " 7 : \t subject hello university degree programs increase personal prestige money earn power through advance university degree eminent non accredit university award degree degree grant base present knowledge experience further effort necessary part short phone call require ba ma mba phd diploma field choice detail call \n",
      "\n",
      "\n",
      " 8 : \t subject view hollander collection view hollander collection t h e h o l l n d e r c o l l e c t o n f v e r t s t s o n e f m l y gino hollander paint jim hollander photography sirus hollander sculpture view http www hollanderart com scott hollander photography barbara hollander write \n",
      "\n",
      "\n",
      " 9 : \t subject junk mail book linguist plurabelle book catalogue second hand print book linguistics history linguistics available contain title please ask free copy catalogue please include mail address want paper copy visit us net http www plurabelle co uk lingu htm write dr michael cahn plurabelle book garden walk cambridge cb ew tel fax lingu plurabelle co uk sell book read open anytime http www plurabelle co uk \n",
      "\n",
      "\n",
      " 10 : \t subject here university degree programs increase personal prestige money earn power through advance university degree eminent non accredit university award degree degree grant base present knowledge experience further effort necessary part short phone call require ba ma mba phd diploma field choice detail call \n",
      "\n",
      "\n",
      " 11 : \t subject hello university degree programs increase personal prestige money earn power through advance university degree eminent non accredit university award degree degree grant base present knowledge experience further effort necessary part short phone call require ba ma mba phd diploma field choice detail call \n",
      "\n"
     ]
    }
   ],
   "source": [
    "print_FP_sentence (result_our_emails, test_labels_emails, DF_test_emails)"
   ]
  },
  {
   "cell_type": "markdown",
   "metadata": {},
   "source": [
    "### Overfitting ?"
   ]
  },
  {
   "cell_type": "code",
   "execution_count": 39,
   "metadata": {},
   "outputs": [],
   "source": [
    "result_our_emails = []\n",
    "for i in range(len(DF_train_emails['data'])):\n",
    "    result_our_emails.append(ClassifySentense(DF_train_emails['data'][i], model_emails, preprocess = False))\n",
    "    \n",
    "result_our_emails = np.array(result_our_emails)\n",
    "\n",
    "result1_emails = model1_emails.predict(train_matrix_emails)\n",
    "result2_emails = model2_emails.predict(train_matrix_emails)\n",
    "result3_emails = model3_emails.predict(train_matrix_emails)\n",
    "result4_emails = model4_emails.predict(train_matrix_emails)\n",
    "result5_emails = model5_emails.predict(train_matrix_emails)"
   ]
  },
  {
   "cell_type": "code",
   "execution_count": 40,
   "metadata": {},
   "outputs": [
    {
     "name": "stdout",
     "output_type": "stream",
     "text": [
      "Confusion matrix train:\n",
      "\n",
      "\n",
      "For our NB : \n",
      " [[245   0]\n",
      " [  4 241]]\n",
      "\n",
      "For MultinomialNB : \n",
      " [[245   0]\n",
      " [  4 241]]\n",
      "\n",
      "For LinearSVC : \n",
      " [[245   0]\n",
      " [  0 245]]\n",
      "\n",
      "For LDA : \n",
      " [[245   0]\n",
      " [  1 244]]\n",
      "\n",
      "For QDA : \n",
      " [[245   0]\n",
      " [  0 245]]\n",
      "\n",
      "For KNN : \n",
      " [[169  76]\n",
      " [  7 238]]\n"
     ]
    }
   ],
   "source": [
    "print ('Confusion matrix train:\\n')\n",
    "\n",
    "print('\\nFor our NB : \\n', confusion_matrix(train_labels_emails,result_our_emails))\n",
    "print ('\\nFor MultinomialNB : \\n', confusion_matrix(train_labels_emails,result1_emails))\n",
    "print ('\\nFor LinearSVC : \\n', confusion_matrix(train_labels_emails,result2_emails))\n",
    "print ('\\nFor LDA : \\n', confusion_matrix(train_labels_emails,result3_emails))\n",
    "print ('\\nFor QDA : \\n', confusion_matrix(train_labels_emails,result4_emails))\n",
    "print ('\\nFor KNN : \\n', confusion_matrix(train_labels_emails,result5_emails))"
   ]
  }
 ],
 "metadata": {
  "kernelspec": {
   "display_name": "Python 3",
   "language": "python",
   "name": "python3"
  },
  "language_info": {
   "codemirror_mode": {
    "name": "ipython",
    "version": 3
   },
   "file_extension": ".py",
   "mimetype": "text/x-python",
   "name": "python",
   "nbconvert_exporter": "python",
   "pygments_lexer": "ipython3",
   "version": "3.6.4"
  }
 },
 "nbformat": 4,
 "nbformat_minor": 2
}
